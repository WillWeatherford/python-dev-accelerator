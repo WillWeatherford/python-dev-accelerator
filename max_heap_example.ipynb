{
 "cells": [
  {
   "cell_type": "markdown",
   "metadata": {
    "slideshow": {
     "slide_type": "slide"
    }
   },
   "source": [
    "# Max Heap Test"
   ]
  },
  {
   "cell_type": "code",
   "execution_count": 18,
   "metadata": {
    "collapsed": true,
    "slideshow": {
     "slide_type": "subslide"
    }
   },
   "outputs": [],
   "source": [
    "import math"
   ]
  },
  {
   "cell_type": "code",
   "execution_count": 21,
   "metadata": {
    "collapsed": true,
    "slideshow": {
     "slide_type": "subslide"
    }
   },
   "outputs": [],
   "source": [
    "heap = [16, 14, 10, 8, 7, 9, 3, 2, 4, 1]"
   ]
  },
  {
   "cell_type": "markdown",
   "metadata": {},
   "source": [
    "*n.b. this is 3-level tree (misread my notes).\n",
    "\n",
    "Here are [illustrations](https://en.wikipedia.org/wiki/Binary_heap)."
   ]
  },
  {
   "cell_type": "markdown",
   "metadata": {
    "slideshow": {
     "slide_type": "slide"
    }
   },
   "source": [
    "## Parent floor(i/2)"
   ]
  },
  {
   "cell_type": "code",
   "execution_count": 23,
   "metadata": {
    "collapsed": true,
    "slideshow": {
     "slide_type": "fragment"
    }
   },
   "outputs": [],
   "source": [
    "def parent(aheap, i):\n",
    "    if i == 0: return None\n",
    "    #return floor(i/2)"
   ]
  },
  {
   "cell_type": "code",
   "execution_count": 25,
   "metadata": {
    "collapsed": false,
    "slideshow": {
     "slide_type": "fragment"
    }
   },
   "outputs": [
    {
     "name": "stdout",
     "output_type": "stream",
     "text": [
      "pass\n"
     ]
    }
   ],
   "source": [
    "def test_root_parent():\n",
    "    assert(parent(heap, 0) is None)\n",
    "    print(\"pass\")\n",
    "    \n",
    "test_root_parent()"
   ]
  },
  {
   "cell_type": "code",
   "execution_count": 5,
   "metadata": {
    "collapsed": true,
    "slideshow": {
     "slide_type": "fragment"
    }
   },
   "outputs": [],
   "source": [
    "def test_a_parent():\n",
    "    assert(False)\n",
    "    \n",
    "test_a_parent()"
   ]
  },
  {
   "cell_type": "markdown",
   "metadata": {},
   "source": [
    "## Left (2i)"
   ]
  },
  {
   "cell_type": "code",
   "execution_count": 6,
   "metadata": {
    "collapsed": true
   },
   "outputs": [],
   "source": [
    "#def left(i):\n",
    "    #return 2i\n"
   ]
  },
  {
   "cell_type": "code",
   "execution_count": 7,
   "metadata": {
    "collapsed": true
   },
   "outputs": [],
   "source": [
    "def test_a_left():\n",
    "    left(i)"
   ]
  },
  {
   "cell_type": "markdown",
   "metadata": {},
   "source": [
    "## Right (2i + 1)"
   ]
  },
  {
   "cell_type": "code",
   "execution_count": 8,
   "metadata": {
    "collapsed": true
   },
   "outputs": [],
   "source": [
    "#def right(i):\n",
    "    #return 2i + 1"
   ]
  },
  {
   "cell_type": "code",
   "execution_count": 9,
   "metadata": {
    "collapsed": true
   },
   "outputs": [],
   "source": [
    "def test_a_right():\n",
    "    assert(False)"
   ]
  },
  {
   "cell_type": "markdown",
   "metadata": {},
   "source": [
    "## Insert (Push)"
   ]
  },
  {
   "cell_type": "markdown",
   "metadata": {},
   "source": [
    "{percolate, bubble, sift, trickle, heapify, cascade} up\n",
    "\n",
    "### 1. Add element to the bottom level\n",
    "### 2. Compare with parent\n",
    "### 3. If e > p --> swap else: stop"
   ]
  },
  {
   "cell_type": "code",
   "execution_count": 10,
   "metadata": {
    "collapsed": true
   },
   "outputs": [],
   "source": [
    "def test_push():\n",
    "    n = 11\n",
    "    assert(False)"
   ]
  },
  {
   "cell_type": "markdown",
   "metadata": {},
   "source": [
    "## Extract (Pop)"
   ]
  },
  {
   "cell_type": "markdown",
   "metadata": {},
   "source": [
    "{percolate, bubble, sift, trickle, heapify, cascade} down\n",
    "\n",
    "### 1. Replace the root with last e\n",
    "### 2. Compare with child\n",
    "### 3. If root < c swap else: stop"
   ]
  },
  {
   "cell_type": "code",
   "execution_count": 11,
   "metadata": {
    "collapsed": true
   },
   "outputs": [],
   "source": [
    "def test_pop():\n",
    "    assert(False)"
   ]
  },
  {
   "cell_type": "markdown",
   "metadata": {},
   "source": [
    "## Heapify"
   ]
  },
  {
   "cell_type": "markdown",
   "metadata": {},
   "source": [
    "max-heapify(A,i):\n",
    "    lft = left(i)\n",
    "    r = right(i)\n",
    "    if l<= size(A) and A[lft] > A[i]:\n",
    "        largest = lft\n",
    "    else largest = i\n",
    "    if r <= size(A) and A[r] > A[largest]\n",
    "        largest = r\n",
    "    if largest <> i:\n",
    "        exchange A[i] with A[largest]\n",
    "        max-heapify(A,largest)"
   ]
  },
  {
   "cell_type": "code",
   "execution_count": null,
   "metadata": {
    "collapsed": true
   },
   "outputs": [],
   "source": [
    "def test_heapify(A, i):\n",
    "    assert(False)"
   ]
  }
 ],
 "metadata": {
  "celltoolbar": "Slideshow",
  "kernelspec": {
   "display_name": "Python 3",
   "language": "python",
   "name": "python3"
  },
  "language_info": {
   "codemirror_mode": {
    "name": "ipython",
    "version": 3
   },
   "file_extension": ".py",
   "mimetype": "text/x-python",
   "name": "python",
   "nbconvert_exporter": "python",
   "pygments_lexer": "ipython3",
   "version": "3.5.1"
  }
 },
 "nbformat": 4,
 "nbformat_minor": 0
}
