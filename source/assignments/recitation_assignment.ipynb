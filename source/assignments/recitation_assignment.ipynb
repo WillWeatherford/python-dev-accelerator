{
 "cells": [
  {
   "cell_type": "markdown",
   "metadata": {},
   "source": [
    "# Recitation Assignment"
   ]
  },
  {
   "cell_type": "markdown",
   "metadata": {},
   "source": [
    "## Tasks"
   ]
  },
  {
   "cell_type": "markdown",
   "metadata": {},
   "source": [
    "### Jupyter\n",
    "\n",
    "Create a Jupyter notebook:\n",
    "\n",
    "* Provide cells which show your data cleaning, analysis and pre-processing.  \n",
    "* Provide an implementation of the pseudo code for the daily algorithm(s).  "
   ]
  },
  {
   "cell_type": "markdown",
   "metadata": {},
   "source": [
    "### Kaggle \n",
    "\n",
    "Run the daily algorithm(s) using scikit-learn and submit the results to Kaggle."
   ]
  },
  {
   "cell_type": "markdown",
   "metadata": {},
   "source": [
    "### Timing\n",
    "\n",
    "Run all implementations using the timeit cell magic.  The daily algorithms should be re-run if the data changes, for an apples-to-apples comparison."
   ]
  },
  {
   "cell_type": "markdown",
   "metadata": {},
   "source": [
    "### Conclusions and Recommendations\n",
    "\n",
    "* Record the results of timeit for both implementations in a cell.  Were there any surprises?  Why or why not?  \n",
    "\n",
    "* Record your Kaggle placement on the leaderboard in a cell.  Were you surprised by the results?  Why or why not?  \n",
    "\n",
    "* Record the results of algorithms rerun on the same data."
   ]
  },
  {
   "cell_type": "markdown",
   "metadata": {},
   "source": [
    "## Submitting Your Work\n",
    "\n",
    "* Report your answers in a Jupyter notebook with either print statements or markdown. \n",
    "\n",
    "* For your implementations, include a docstring describing what that function does. Note: You are not writing tests for any functions. \n",
    "\n",
    "* If there is any change in the data (including segmentation), provide the results \n",
    "\n",
    "* Create cells that contain your conlusions and recommendations.  You may choose to create charts, graphs or other visualization of changes."
   ]
  }
 ],
 "metadata": {
  "kernelspec": {
   "display_name": "Python 3",
   "language": "python",
   "name": "python3"
  },
  "language_info": {
   "codemirror_mode": {
    "name": "ipython",
    "version": 3
   },
   "file_extension": ".py",
   "mimetype": "text/x-python",
   "name": "python",
   "nbconvert_exporter": "python",
   "pygments_lexer": "ipython3",
   "version": "3.5.1"
  }
 },
 "nbformat": 4,
 "nbformat_minor": 0
}
