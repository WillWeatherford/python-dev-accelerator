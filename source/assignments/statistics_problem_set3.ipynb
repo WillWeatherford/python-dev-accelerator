{
 "cells": [
  {
   "cell_type": "markdown",
   "metadata": {},
   "source": [
    "# Problem Set - Statistics 3\n",
    "Data Ref: https://www.kaggle.com/c/titanic/data\n"
   ]
  },
  {
   "cell_type": "markdown",
   "metadata": {},
   "source": [
    "## Tasks"
   ]
  },
  {
   "cell_type": "markdown",
   "metadata": {},
   "source": [
    "### Choose one of these two\n",
    "- Did survivors pay more for their tickets than those that didn't? If so, to what signifance level?\n",
    "- Did a given first-class passenger have less family members on board than a given third-class passenger? If so, to what significance level?"
   ]
  },
  {
   "cell_type": "markdown",
   "metadata": {},
   "source": [
    "### Here is a basic linear model for the relationship between Age and Fare:\n",
    "\n",
    "$$\\text{Fare } = C_0\\cdot\\text{ Age}$$\n",
    "\n",
    "Find the a value for $C_0$ that *best* fits the data and illustrates the relationship between Age and Fare. **Note that while this still may not be a good fit to the data, it'll be the best fit for *THIS* model**"
   ]
  },
  {
   "cell_type": "markdown",
   "metadata": {},
   "source": [
    "## Submitting Your Work\n",
    "Report your answers in an iPython/Jupyter notebook with either print statements or markdown. If you write any functions, include a docstring describing what that function does. Note: You are not writing tests for any functions. If you come to any conclusions via math (and you will), make sure your code matches what you say.\n",
    "\n",
    "When your work is complete, push your work to github and issue a Pull Request to your master branch. Submit the URL for your pull request. After this is complete, you may merge your work to master.\n",
    "\n",
    "As usual, use the comments function in canvas to submit questions, comments and reflections on this work."
   ]
  }
 ],
 "metadata": {
  "kernelspec": {
   "display_name": "Python 3",
   "language": "python",
   "name": "python3"
  },
  "language_info": {
   "codemirror_mode": {
    "name": "ipython",
    "version": 3
   },
   "file_extension": ".py",
   "mimetype": "text/x-python",
   "name": "python",
   "nbconvert_exporter": "python",
   "pygments_lexer": "ipython3",
   "version": "3.5.1"
  }
 },
 "nbformat": 4,
 "nbformat_minor": 0
}
