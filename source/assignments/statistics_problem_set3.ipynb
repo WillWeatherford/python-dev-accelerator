{
 "cells": [
  {
   "cell_type": "markdown",
   "metadata": {},
   "source": [
    "# Problem Set - Statistics 3\n",
    "Data Ref: https://www.kaggle.com/c/titanic/data\n"
   ]
  },
  {
   "cell_type": "markdown",
   "metadata": {},
   "source": [
    "## Tasks"
   ]
  },
  {
   "cell_type": "markdown",
   "metadata": {},
   "source": [
    "### Did survivors pay more for their tickets than those that didn't? If so, to what signifance level?"
   ]
  },
  {
   "cell_type": "markdown",
   "metadata": {},
   "source": [
    "### Did a given first-class passenger have less family members on board than a given third-class passenger? If so, to what significance level?"
   ]
  },
  {
   "cell_type": "markdown",
   "metadata": {},
   "source": [
    "### Let's assume there is a relationship between the age of a passenger from Cherbourg and the fare that they paid. \n",
    "Let's say that that relationship is: \n",
    "\n",
    "$$\\text{fare} = \\frac{1}{2}\\text{age}$$\n",
    "    \n",
    "With the uncertainty in the fare as \n",
    "    \n",
    "$$\\sigma = \\sqrt{\\text{age}}$$\n",
    "    \n",
    "Is this a good model for the data? Note: degrees of freedom = 2"
   ]
  },
  {
   "cell_type": "markdown",
   "metadata": {},
   "source": [
    "#### The above is a linear model. It takes the general form:\n",
    "\n",
    "$$y = mx + b$$\n",
    "\n",
    "For this equation:\n",
    "- y is \"fare\"\n",
    "- m (slope) is $1/2$\n",
    "- x is \"age\"\n",
    "- b (intercept) is 0"
   ]
  },
  {
   "cell_type": "markdown",
   "metadata": {},
   "source": [
    "### Write a function that tests a grid of slopes and intercepts, returning the best combination of slope and intercept for a linear model. \n",
    "- Assume that the uncertainty in the data is still $\\sigma = \\sqrt{\\text{age}}$. \n",
    "- Use this function to create a better model for the data than the first one. "
   ]
  },
  {
   "cell_type": "markdown",
   "metadata": {},
   "source": [
    "### Visualize your model against the data, along with the bad model. Are either of these appropriate models? Why or why not?"
   ]
  },
  {
   "cell_type": "markdown",
   "metadata": {},
   "source": [
    "### <span style=\"color: red;\">***STRETCH GOAL:***</span> Use cross validation to estimate the the 68, 95, and 99.7% confidence intervals on the slope."
   ]
  },
  {
   "cell_type": "markdown",
   "metadata": {},
   "source": [
    "## Submitting Your Work\n",
    "Report your answers in an iPython/Jupyter notebook with either print statements or markdown. If you write any functions, include a docstring describing what that function does. Note: You are not writing tests for any functions. If you come to any conclusions via math (and you will), make sure your code matches what you say.\n",
    "\n",
    "When your work is complete, push your work to github and issue a Pull Request to your master branch. Submit the URL for your pull request. After this is complete, you may merge your work to master.\n",
    "\n",
    "As usual, use the comments function in canvas to submit questions, comments and reflections on this work."
   ]
  }
 ],
 "metadata": {
  "kernelspec": {
   "display_name": "Python 3",
   "language": "python",
   "name": "python3"
  },
  "language_info": {
   "codemirror_mode": {
    "name": "ipython",
    "version": 3
   },
   "file_extension": ".py",
   "mimetype": "text/x-python",
   "name": "python",
   "nbconvert_exporter": "python",
   "pygments_lexer": "ipython3",
   "version": "3.5.1"
  }
 },
 "nbformat": 4,
 "nbformat_minor": 0
}
