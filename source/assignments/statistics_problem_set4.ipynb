{
 "cells": [
  {
   "cell_type": "markdown",
   "metadata": {},
   "source": [
    "# Problem Set - Statistics 4\n",
    "\n",
    "Data Ref: http://www.seanlahman.com/baseball-archive/statistics/\n",
    "    - get the comma-delimited version for 2014\n",
    "\n",
    "**Note: Data is also available in the class downloads**"
   ]
  },
  {
   "cell_type": "markdown",
   "metadata": {},
   "source": [
    "## Tasks"
   ]
  },
  {
   "cell_type": "markdown",
   "metadata": {},
   "source": [
    "This assignment is more of an open-ended data analysis project, using the baseball data explored in [Statistics 4](../lectures/stats_day4.html). Use linear regression and the concepts explored in the previous statistics lectures to explore meaningful relationships in the data with ideas of your own design. As an example, the stats 4 lecture tries to predict pitchers' salaries using their player stats. Other examples are...\n",
    "\n",
    "- Predicting player salaries in general using stats contained in ancillary files\n",
    "- Predicting team win-loss records with player stats\n",
    "\n",
    "or any other question you come up with that you feel is worth exploring. **Whatever question you go with, make sure it's clearly stated at the top of your notebook.**"
   ]
  },
  {
   "cell_type": "markdown",
   "metadata": {},
   "source": [
    "For any model that you create, \n",
    "\n",
    "- Describe the characteristics you chose and why you chose them\n",
    "- Make sure that your fit attains an $R^2$ score ≥ 0.65. Try to get your score as high as you can manage, but that is the lower threshold.\n",
    "- Include at least one 2D visualization of the data you're trying to predict, alongside the result of your prediction. While your model may use many variables in its prediction, you only need to plot the predicted values vs one variable.\n",
    "\n",
    "Note that *IF YOU WANT* you can include polynomial terms by putting exponents on your input data like so:\n",
    "\n",
    "```\n",
    "baseball_data[\"param_1_squared\"] = baseball_data[\"param_1\"]**2\n",
    "baseball_data[\"param_2_cubed\"] = baseball_data[\"param_2\"]**3\n",
    "baseball_data[\"param_3_sqrt\"] = np.sqrt(baseball_data[\"param_3\"])\n",
    "\n",
    "Xvals = baseball_data[[\"param_1\", \"param_1_squared\", \"param_2\", \"param_2_cubed\", \"param_3\", \"param_3_sqrt\"]]\n",
    "```"
   ]
  },
  {
   "cell_type": "markdown",
   "metadata": {},
   "source": [
    "### ***STRETCH GOAL*** Comment on the appropriateness of a linear model to the data and question at hand. What do you think would be more appropriate? Why?"
   ]
  },
  {
   "cell_type": "markdown",
   "metadata": {},
   "source": [
    "## Submitting Your Work\n",
    "\n",
    "Report your answers in an iPython/Jupyter notebook with either print statements or markdown. If you write any functions, include a docstring describing what that function does. Note: You are not writing tests for any functions. If you come to any conclusions via math (and you will), make sure your code matches what you say.\n",
    "\n",
    "When your work is complete, push your work to github and issue a Pull Request to your master branch. Submit the URL for your pull request. After this is complete, you may merge your work to master.\n",
    "\n",
    "As usual, use the comments function in canvas to submit questions, comments and reflections on this work."
   ]
  }
 ],
 "metadata": {
  "kernelspec": {
   "display_name": "Python 3",
   "language": "python",
   "name": "python3"
  },
  "language_info": {
   "codemirror_mode": {
    "name": "ipython",
    "version": 3
   },
   "file_extension": ".py",
   "mimetype": "text/x-python",
   "name": "python",
   "nbconvert_exporter": "python",
   "pygments_lexer": "ipython3",
   "version": "3.5.1"
  }
 },
 "nbformat": 4,
 "nbformat_minor": 0
}
