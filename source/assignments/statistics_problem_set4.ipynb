{
 "cells": [
  {
   "cell_type": "markdown",
   "metadata": {},
   "source": [
    "# Problem Set - Statistics 4\n",
    "\n",
    "Data Ref: http://www.seanlahman.com/baseball-archive/statistics/\n",
    "    - get the comma-delimited version for 2014\n",
    "\n",
    "**Note: Data is also available in the class downloads**"
   ]
  },
  {
   "cell_type": "markdown",
   "metadata": {},
   "source": [
    "## Tasks"
   ]
  },
  {
   "cell_type": "markdown",
   "metadata": {},
   "source": [
    "### Univariate\n",
    "\n",
    "- With the baseball data linked above (some of it was explored in [Statistics 4](../lectures/stats_day4.html)), create a univariate Linear Regression model predicting player salary using some player stat. \n",
    "- You will need to join a second table to the \"Salaries.csv\" table.\n",
    "- Cross-validate your model, and produce 68, 95, and 99.7% confidence intervals for your \"slope\".\n",
    "- Report the $R^2$ score for your univariate model.\n",
    "- Make a scatter plot of your data, with your model predictions overlaid in red.\n",
    "\n",
    "### Multivariate\n",
    "\n",
    "- Using **no more than 4** characteristics, create a multivariate Linear Regression model predicting player salary.\n",
    "- Report the $R^2$ score for your multivariate model. Aim for $R^2 > 0.5$.\n",
    "- Make a scatter plot of your data side-by-side with a scatter plot of your model predictions."
   ]
  },
  {
   "cell_type": "markdown",
   "metadata": {},
   "source": [
    "## Submitting Your Work\n",
    "\n",
    "Report your answers in an iPython/Jupyter notebook with either print statements or markdown. If you write any functions, include a docstring describing what that function does. Note: You are not writing tests for any functions. If you come to any conclusions via math (and you will), make sure your code matches what you say.\n",
    "\n",
    "When your work is complete, push your work to github and issue a Pull Request to your master branch. Submit the URL for your pull request. After this is complete, you may merge your work to master.\n",
    "\n",
    "As usual, use the comments function in canvas to submit questions, comments and reflections on this work."
   ]
  }
 ],
 "metadata": {
  "kernelspec": {
   "display_name": "Python 3",
   "language": "python",
   "name": "python3"
  },
  "language_info": {
   "codemirror_mode": {
    "name": "ipython",
    "version": 3
   },
   "file_extension": ".py",
   "mimetype": "text/x-python",
   "name": "python",
   "nbconvert_exporter": "python",
   "pygments_lexer": "ipython3",
   "version": "3.5.1"
  }
 },
 "nbformat": 4,
 "nbformat_minor": 0
}
