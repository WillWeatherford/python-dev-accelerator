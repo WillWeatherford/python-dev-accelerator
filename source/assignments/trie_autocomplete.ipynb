{
 "cells": [
  {
   "cell_type": "markdown",
   "metadata": {},
   "source": [
    "# Trie: AutoComplete\n",
    "\n",
    "## Tasks\n",
    "\n",
    "\n",
    "In your data-structures repository, add methods that implement autocomplete.\n",
    "\n",
    "Your autocomplete should calculate a maximum of the \"top\" four possibilities for a given subsequence in your token.\n",
    "\n",
    "For instance:  \n",
    "* K --> ['kittens', 'kits', 'kilt', 'kaboodle']\n",
    "* KI --> ['kittens', 'kits', 'kilt']\n",
    "* KIL --> ['kilt']\n",
    "* KILT --> ['kilt']\n",
    "* KILTE --> [ ]\n",
    "* KILTER --> [ ]\n",
    "\n",
    "Your implementation must include tests. The tests, as usual for our data structures, must run both in Python 2.7 and Python 3.5.\n",
    "\n",
    "Add documentation of your new methods to your README file. Include any sources or collaborations.\n",
    "\n",
    "## Submitting Your Work\n",
    "When you’ve completed your work and all your tests are passing, submit a pull request from the bst branch back to master. Copy the URL for that pull request and submit it using the URL input. When that is done, you may merge your branch back to master. However, do not delete your working branch until your assignment has been graded.\n",
    "\n",
    "As usual, use the comment function to submit questions, comments and reflections on the work you’ve done here."
   ]
  }
 ],
 "metadata": {
  "kernelspec": {
   "display_name": "Python 3",
   "language": "python",
   "name": "python3"
  },
  "language_info": {
   "codemirror_mode": {
    "name": "ipython",
    "version": 3
   },
   "file_extension": ".py",
   "mimetype": "text/x-python",
   "name": "python",
   "nbconvert_exporter": "python",
   "pygments_lexer": "ipython3",
   "version": "3.5.1"
  }
 },
 "nbformat": 4,
 "nbformat_minor": 0
}
