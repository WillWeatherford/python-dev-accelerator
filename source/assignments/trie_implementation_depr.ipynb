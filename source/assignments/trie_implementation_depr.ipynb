{
 "cells": [
  {
   "cell_type": "markdown",
   "metadata": {},
   "source": [
    "# Implement a Trie in Python\n",
    "\n",
    "## Tasks\n",
    "Create a new branch for your data structures repository. Call it “trie”. You will use this branch to do your work for this assignment.\n",
    "\n",
    "Add a new file to your data-structures repository. Call it trie.py.\n",
    "\n",
    "In this file, implement a Trie as a Python class (or classes). Your trie should have the following methods:\n",
    "\n",
    "* insert(self, token): will insert the value token into the trie. If character in token is already present, it will be ignored.\n",
    "* contains(self, token): will return True if token is in the trie, False if not.\n",
    "\n",
    "Your trie implementation must include tests. The tests, as usual for our data structures, must run both in Python 2.7 and Python 3.5.\n",
    "\n",
    "Ensure that your tests are properly connected to Travis CI and that you have a travis badge displayed on your README.\n",
    "\n",
    "Expand your README to include notes about the trie you’ve constructed. Include any sources or collaborations.\n",
    "\n",
    "## Submitting Your Work\n",
    "When you’ve completed your work and all your tests are passing, submit a pull request from the bst branch back to master. Copy the URL for that pull request and submit it using the URL input. When that is done, you may merge your branch back to master. However, do not delete your working branch until your assignment has been graded.\n",
    "\n",
    "As usual, use the comment function to submit questions, comments and reflections on the work you’ve done here."
   ]
  }
 ],
 "metadata": {
  "kernelspec": {
   "display_name": "Python 3",
   "language": "python",
   "name": "python3"
  },
  "language_info": {
   "codemirror_mode": {
    "name": "ipython",
    "version": 3
   },
   "file_extension": ".py",
   "mimetype": "text/x-python",
   "name": "python",
   "nbconvert_exporter": "python",
   "pygments_lexer": "ipython3",
   "version": "3.5.1"
  }
 },
 "nbformat": 4,
 "nbformat_minor": 0
}
