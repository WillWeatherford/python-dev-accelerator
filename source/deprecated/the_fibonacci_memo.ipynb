{
 "cells": [
  {
   "cell_type": "markdown",
   "metadata": {
    "slideshow": {
     "slide_type": "slide"
    }
   },
   "source": [
    "# Did you get the memo?"
   ]
  },
  {
   "cell_type": "code",
   "execution_count": 1,
   "metadata": {
    "collapsed": true,
    "slideshow": {
     "slide_type": "slide"
    }
   },
   "outputs": [],
   "source": [
    "def fib(n):\n",
    "    \"\"\"Return Nth Number of Fibonacci Sequence.\"\"\"\n",
    "    if n == 1:\n",
    "        return 0\n",
    "    elif n == 2:\n",
    "        return 1\n",
    "    else:\n",
    "        return fib(n - 1) + fib(n - 2)"
   ]
  },
  {
   "cell_type": "code",
   "execution_count": 2,
   "metadata": {
    "collapsed": false,
    "slideshow": {
     "slide_type": "fragment"
    }
   },
   "outputs": [
    {
     "name": "stdout",
     "output_type": "stream",
     "text": [
      "1000 loops, best of 3: 2.59 ms per loop\n"
     ]
    }
   ],
   "source": [
    "%%timeit -n 1000\n",
    "fib(20)"
   ]
  },
  {
   "cell_type": "markdown",
   "metadata": {
    "slideshow": {
     "slide_type": "fragment"
    }
   },
   "source": [
    "* Too slow ...\n",
    "* Can we go faster?\n",
    "* What are we calulating?\n",
    "* What if we only calulated once?\n",
    "* What built in data structure can we use?"
   ]
  },
  {
   "cell_type": "code",
   "execution_count": 4,
   "metadata": {
    "collapsed": true,
    "slideshow": {
     "slide_type": "slide"
    }
   },
   "outputs": [],
   "source": [
    "def fibonacci(n):\n",
    "    \"\"\"Return nth number of fibonacci sequence\"\"\"\n",
    "    if n <= 0:\n",
    "        return 0\n",
    "    l = [0, 1]\n",
    "    while len(l) < n:\n",
    "        l.append(l[-1] + l[-2])\n",
    "    return l[n-1]\n"
   ]
  },
  {
   "cell_type": "code",
   "execution_count": 5,
   "metadata": {
    "collapsed": false,
    "slideshow": {
     "slide_type": "fragment"
    }
   },
   "outputs": [
    {
     "name": "stdout",
     "output_type": "stream",
     "text": [
      "1000 loops, best of 3: 4.7 µs per loop\n"
     ]
    }
   ],
   "source": [
    "%%timeit -n 1000\n",
    "fibonacci(20)"
   ]
  },
  {
   "cell_type": "code",
   "execution_count": 9,
   "metadata": {
    "collapsed": true,
    "slideshow": {
     "slide_type": "slide"
    }
   },
   "outputs": [],
   "source": [
    "memo = {}\n",
    "def fib_memoized(n):\n",
    "  '''calculate the fibonacci number for int n and return int '''\n",
    "  if n in memo: \n",
    "    return memo[n]\n",
    "  if n == 1:\n",
    "    f = 0\n",
    "  elif n == 2:\n",
    "    f = 1\n",
    "  else:\n",
    "    f = fib_memoized(n - 1) + fib_memoized(n - 2)\n",
    "  memo[n] = f\n",
    "  return f"
   ]
  },
  {
   "cell_type": "markdown",
   "metadata": {
    "slideshow": {
     "slide_type": "fragment"
    }
   },
   "source": [
    "How slow is it now?"
   ]
  },
  {
   "cell_type": "code",
   "execution_count": 10,
   "metadata": {
    "collapsed": false,
    "slideshow": {
     "slide_type": "fragment"
    }
   },
   "outputs": [
    {
     "name": "stdout",
     "output_type": "stream",
     "text": [
      "1000 loops, best of 3: 176 ns per loop\n"
     ]
    }
   ],
   "source": [
    "%%timeit -n 1000\n",
    "fib_memoized(20)"
   ]
  },
  {
   "cell_type": "markdown",
   "metadata": {
    "slideshow": {
     "slide_type": "slide"
    }
   },
   "source": [
    "There is a faster algorithm --look up [Knuth](https://en.wikipedia.org/wiki/Donald_Knuth)\n",
    "And other ways to do this in Python:\n",
    "[Warning: code from the net --do not copy and paste](https://technobeans.wordpress.com/2012/04/16/5-ways-of-fibonacci-in-python/)"
   ]
  },
  {
   "cell_type": "code",
   "execution_count": null,
   "metadata": {
    "collapsed": true
   },
   "outputs": [],
   "source": []
  }
 ],
 "metadata": {
  "celltoolbar": "Slideshow",
  "kernelspec": {
   "display_name": "Python 3",
   "language": "python",
   "name": "python3"
  },
  "language_info": {
   "codemirror_mode": {
    "name": "ipython",
    "version": 3
   },
   "file_extension": ".py",
   "mimetype": "text/x-python",
   "name": "python",
   "nbconvert_exporter": "python",
   "pygments_lexer": "ipython3",
   "version": "3.5.1"
  }
 },
 "nbformat": 4,
 "nbformat_minor": 0
}
