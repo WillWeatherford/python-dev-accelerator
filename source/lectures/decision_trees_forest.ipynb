{
 "cells": [
  {
   "cell_type": "markdown",
   "metadata": {},
   "source": [
    "# Decision Trees & Random Forests Experiment"
   ]
  },
  {
   "cell_type": "markdown",
   "metadata": {},
   "source": [
    "## Objectives\n",
    "\n",
    "Predict survival of Titanic passangers."
   ]
  },
  {
   "cell_type": "markdown",
   "metadata": {},
   "source": [
    "## Data Analysis"
   ]
  },
  {
   "cell_type": "markdown",
   "metadata": {},
   "source": [
    "## Selection of Features"
   ]
  },
  {
   "cell_type": "markdown",
   "metadata": {},
   "source": [
    "* Must be discrete --> discretize continuous variables"
   ]
  },
  {
   "cell_type": "code",
   "execution_count": 3,
   "metadata": {
    "collapsed": false
   },
   "outputs": [],
   "source": [
    "temperatures =  [-40.0, -20.5, -15.13, 0.00, 15.0, 32.0, 66.0, 98.6, 212.0]\n",
    "temps_discrete = {'frozen':[-40.0, -20.5, -15.13, 0.00], 'cold':[15.0, 32.0], 'nice':[66.0, 98.6], 'hot':[212.0]}"
   ]
  },
  {
   "cell_type": "markdown",
   "metadata": {},
   "source": [
    "## Experiment Heueristics (Design)"
   ]
  },
  {
   "cell_type": "markdown",
   "metadata": {},
   "source": [
    "### Evaluation"
   ]
  },
  {
   "cell_type": "markdown",
   "metadata": {},
   "source": [
    "### Representation\n",
    "\n",
    "#### Decision Tree (ID3)\n"
   ]
  },
  {
   "cell_type": "markdown",
   "metadata": {},
   "source": [
    "* Entropy:"
   ]
  },
  {
   "cell_type": "markdown",
   "metadata": {},
   "source": [
    "H(p) = -p * log2(p) if p <> 0 else: 0"
   ]
  },
  {
   "cell_type": "markdown",
   "metadata": {},
   "source": [
    "* Information Gain:"
   ]
  },
  {
   "cell_type": "markdown",
   "metadata": {},
   "source": [
    "gain(S, F) = H(S) - sum([len(S[f]/len(S) * H(s[f] for f in F])\n",
    "\n",
    "Weather can be rainy or sunny.  \n",
    "S is a sampling of days which I wear a hoodie.  \n",
    "S = [9+, 5-]  \n",
    "S[rainy]  = [6+, 2-]  \n",
    "S[sunny] = [3+, 3-]  \n",
    "\n",
    "$Gain(S, hoodie) = (H(9/14) + H(5/14)) - 8/14(-6/8* log2(6/8) + log2(2/8) * -2/8) - 6/14*1 = 0.048$  \n"
   ]
  },
  {
   "cell_type": "markdown",
   "metadata": {},
   "source": [
    "What about temperature cold[6+, 1-], hot[3+, 4-]?"
   ]
  },
  {
   "cell_type": "markdown",
   "metadata": {},
   "source": [
    "gain(S, temperature) = .151"
   ]
  },
  {
   "cell_type": "markdown",
   "metadata": {},
   "source": [
    "Which is closer to the root of the problem? "
   ]
  },
  {
   "cell_type": "markdown",
   "metadata": {},
   "source": [
    "#### Bagging"
   ]
  },
  {
   "cell_type": "markdown",
   "metadata": {},
   "source": [
    "Uniformly random sampling with replacement.  \n",
    "https://en.wikipedia.org/wiki/Bootstrap_aggregating"
   ]
  },
  {
   "cell_type": "markdown",
   "metadata": {},
   "source": [
    "#### Tuning"
   ]
  },
  {
   "cell_type": "markdown",
   "metadata": {},
   "source": [
    "### Experiment"
   ]
  },
  {
   "cell_type": "markdown",
   "metadata": {},
   "source": [
    "forest = RandomForestClassifier(n_estimators=100)\n",
    "forest = forest.fit( train_data[0::,1::], train_data[0::,0] )\n",
    "output = forest.predict(test_data).astype(int)"
   ]
  },
  {
   "cell_type": "code",
   "execution_count": 6,
   "metadata": {
    "collapsed": false
   },
   "outputs": [
    {
     "data": {
      "text/plain": [
       "\"df_result.to_csv('titanic.csv', index=False) \""
      ]
     },
     "execution_count": 6,
     "metadata": {},
     "output_type": "execute_result"
    }
   ],
   "source": [
    "#1. open test.csv & clean\n",
    "#2. predict on test data\n",
    "#3. convert predictions to datframe\n",
    "'''df_result = pandas.DataFrame(results[:,0:2], columns=['PassengerId', 'Survived'])'''\n",
    "#4. dump csv\n",
    "'''df_result.to_csv('titanic.csv', index=False) '''"
   ]
  },
  {
   "cell_type": "markdown",
   "metadata": {},
   "source": [
    "## Conclusions"
   ]
  },
  {
   "cell_type": "markdown",
   "metadata": {},
   "source": [
    "## Recommendation"
   ]
  }
 ],
 "metadata": {
  "kernelspec": {
   "display_name": "Python 3",
   "language": "python",
   "name": "python3"
  },
  "language_info": {
   "codemirror_mode": {
    "name": "ipython",
    "version": 3
   },
   "file_extension": ".py",
   "mimetype": "text/x-python",
   "name": "python",
   "nbconvert_exporter": "python",
   "pygments_lexer": "ipython3",
   "version": "3.5.1"
  }
 },
 "nbformat": 4,
 "nbformat_minor": 0
}
