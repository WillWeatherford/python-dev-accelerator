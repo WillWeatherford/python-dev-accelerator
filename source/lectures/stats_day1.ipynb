{
 "cells": [
  {
   "cell_type": "markdown",
   "metadata": {
    "slideshow": {
     "slide_type": "slide"
    }
   },
   "source": [
    "# Statistics 1: Descriptive Statistics\n",
    "**Date:** April 4, 2016\n",
    "\n",
    "**Author:** Nicholas Hunt-Walker\n",
    "\n",
    "**Class:** Code Fellows Code 401: Python\n",
    "\n",
    "**Package/module refs:** \n",
    "- [pandas](http://pandas.pydata.org/pandas-docs/version/0.17.0/generated/pandas.DataFrame.html) for storing your data\n",
    "- [numpy](http://docs.scipy.org/doc/numpy-1.10.0/reference/generated/numpy.mean.html) for storing data and fast descriptive statistics, quantiles, and lots of modules dealing with random numbers\n",
    "- [scipy.stats](http://docs.scipy.org/doc/scipy/reference/stats.html) for the mode, and other things\n",
    "- [matplotlib.pyplot](http://matplotlib.org/api/pyplot_api.html) for visualizing your data"
   ]
  },
  {
   "cell_type": "markdown",
   "metadata": {
    "slideshow": {
     "slide_type": "skip"
    }
   },
   "source": [
    "External Resources:\n",
    "\n",
    "- Khan Academy\n",
    "- Think Bayes\n",
    "\n",
    "Progression:\n",
    "\n",
    "- Average/Mean (sample vs population)\n",
    "- Median + difference from the mean\n",
    "- Mode\n",
    "- Standard Deviation & variance (sample vs population & N - 1)\n",
    "- Standard error\n",
    "- Quantiles"
   ]
  },
  {
   "cell_type": "markdown",
   "metadata": {
    "slideshow": {
     "slide_type": "slide"
    }
   },
   "source": [
    "## The Problem\n",
    "\n",
    "- Tons of data with a number of characteristics\n",
    "- Want to talk intelligently about data without seeing every single entry\n",
    "- Need to know about what's most common, the ranges of distributions, etc.\n",
    "\n",
    "## The Solution (to start)\n",
    "\n",
    "**DESCRIPTIVE STATISTICS!**"
   ]
  },
  {
   "cell_type": "markdown",
   "metadata": {
    "slideshow": {
     "slide_type": "slide"
    }
   },
   "source": [
    "## Averages/Means - Getting a Feeling for the Data"
   ]
  },
  {
   "cell_type": "markdown",
   "metadata": {
    "slideshow": {
     "slide_type": "subslide"
    }
   },
   "source": [
    "## Averages/Means - Getting a Feeling for the Data\n",
    "\n",
    "- For some *NUMERICAL* measurements, average/mean gives you a sense of the \"middle\" of your data. May not represent an actual data point, but moreso where the middle of that data set is.\n",
    "- Consider the set of height measurements (in feet):\n",
    "\n",
    "| Person | Height |\n",
    "| ------ | ------ |\n",
    "| Dante Fierro | 5.9 |\n",
    "| Sun Quan | 5.5 |\n",
    "| Spike Spiegel | 6.1 |\n",
    "| Commander Shepard | 6.0 |\n",
    "| The Dragonborn | 7.2 |\n",
    "\n",
    "- The mean height is calculated as:\n",
    "\n",
    "\\begin{eqnarray}\n",
    "\\mu_h &=& \\displaystyle\\frac{(h_1 + h_2 + h_3 + h_4 + h_5)}{5}\\\\\n",
    "       &=& \\displaystyle\\frac{1}{N}\\sum_{i = 1}^N h_i\\\\\n",
    "       &=& 6.14 \\text{ feet}\n",
    "\\end{eqnarray}"
   ]
  },
  {
   "cell_type": "markdown",
   "metadata": {
    "slideshow": {
     "slide_type": "subslide"
    }
   },
   "source": [
    "## Averages/Means - Do It With Code!"
   ]
  },
  {
   "cell_type": "code",
   "execution_count": 64,
   "metadata": {
    "collapsed": false,
    "slideshow": {
     "slide_type": "-"
    }
   },
   "outputs": [
    {
     "name": "stdout",
     "output_type": "stream",
     "text": [
      "Explicit Average: (5.9 + 5.5 + 6.1 + 6.0 + 7.2) / 5 = 6.14\n",
      "\n",
      "Better Average: sum(heights) / len(heights) = 6.14\n",
      "\n",
      "Explicitly with the list 6.14\n",
      "\n",
      "Numpy Average: np.mean(heights) = 6.14\n"
     ]
    }
   ],
   "source": [
    "# the height data\n",
    "heights = [5.9, 5.5, 6.1, 6.0, 7.2]\n",
    "\n",
    "# explicit sum\n",
    "avg1 = (5.9 + 5.5 + 6.1 + 6.0 + 7.2) / 5\n",
    "print(\"Explicit Average: (5.9 + 5.5 + 6.1 + 6.0 + 7.2) / 5 = {0}\\n\".format(avg1))\n",
    "\n",
    "# actually use some Python\n",
    "avg2 = sum(heights) / len(heights)\n",
    "print(\"Better Average: sum(heights) / len(heights) = {0}\\n\".format(avg2))\n",
    "\n",
    "# explicitly using the list and a loop\n",
    "avg3 = 0\n",
    "for ii in range(len(heights)):\n",
    "    avg3 += heights[ii]\n",
    "avg3 = avg3 / len(heights)\n",
    "print(\"Explicitly with the list {0}\\n\".format(avg3))\n",
    "\n",
    "# get more sophisticated with Numpy\n",
    "import numpy as np\n",
    "\n",
    "avg4 = np.mean(heights)\n",
    "print(\"Numpy Average: np.mean(heights) = {0}\".format(avg4))"
   ]
  },
  {
   "cell_type": "markdown",
   "metadata": {
    "slideshow": {
     "slide_type": "subslide"
    }
   },
   "source": [
    "## Just stick with Numpy for your means...\n",
    "Convention for using the `numpy` package is to import it as `np`. Since in your analysis you may use any number of numpy modules, and some of those modules have names that would overwrite python built-ins, "
   ]
  },
  {
   "cell_type": "code",
   "execution_count": 15,
   "metadata": {
    "collapsed": false,
    "slideshow": {
     "slide_type": "-"
    }
   },
   "outputs": [],
   "source": [
    "from time import time\n",
    "\n",
    "np.random.seed(42)\n",
    "\n",
    "number_measurements = [10, 100, 1000, 10000,\n",
    "                       100000, 1000000, 10000000, 100000000]\n",
    "numpy_time_taken = []\n",
    "\n",
    "for ii in range(len(number_measurements)):\n",
    "    dummy_measurements = np.random.random(size=number_measurements[ii])\n",
    "    t0 = time()\n",
    "    dummy_calc = sum(dummy_measurements) / len(dummy_measurements)\n",
    "    basic_time_taken.append(time() - t0)\n",
    "\n",
    "    t0 = time()\n",
    "    nummy_calc = np.mean(dummy_measurements)\n",
    "    numpy_time_taken.append(time() - t0)\n",
    "\n",
    "del dummy_measurements"
   ]
  },
  {
   "cell_type": "code",
   "execution_count": 35,
   "metadata": {
    "collapsed": false,
    "slideshow": {
     "slide_type": "subslide"
    }
   },
   "outputs": [
    {
     "data": {
      "image/png": "[encoded data removed]",
      "text/plain": [
       "<matplotlib.figure.Figure at 0x10fe16c90>"
      ]
     },
     "metadata": {},
     "output_type": "display_data"
    }
   ],
   "source": [
    "import matplotlib.pyplot as plt\n",
    "%matplotlib inline\n",
    "\n",
    "plt.figure(figsize=(16, 4))\n",
    "plt.plot(number_measurements, basic_time_taken,\n",
    "         label=\"Straight Python\", linewidth=5)\n",
    "plt.plot(number_measurements, numpy_time_taken,\n",
    "         label=\"Glorious Numpy\", linewidth=5)\n",
    "plt.plot([1E1, 1E8], [max(basic_time_taken), max(\n",
    "    basic_time_taken)], linestyle=\"--\", color='k')\n",
    "plt.plot([1E1, 1E8], [max(numpy_time_taken), max(\n",
    "    numpy_time_taken)], linestyle=\"--\", color='k')\n",
    "plt.text(30, 1.1 * max(basic_time_taken), \"Basic: %.2f seconds\" %\n",
    "         (max(basic_time_taken)))\n",
    "plt.text(30, 1.1 * max(numpy_time_taken), \"Numpy: %.2f seconds\" %\n",
    "         (max(numpy_time_taken)))\n",
    "plt.xscale(\"log\")\n",
    "plt.yscale(\"log\")\n",
    "plt.xlabel(\"N measurements\")\n",
    "plt.ylabel(\"Time (s)\")\n",
    "plt.legend(loc=\"best\")\n",
    "plt.show()"
   ]
  },
  {
   "cell_type": "markdown",
   "metadata": {
    "collapsed": true,
    "slideshow": {
     "slide_type": "subslide"
    }
   },
   "source": [
    "## Averages/Means - Limitations\n",
    "\n",
    "Massive, often bogus assumption that your data is distributed like so around some value:"
   ]
  },
  {
   "cell_type": "code",
   "execution_count": 56,
   "metadata": {
    "collapsed": false
   },
   "outputs": [
    {
     "data": {
      "image/png": "[encoded data removed]",
      "text/plain": [
       "<matplotlib.figure.Figure at 0x11b7dea50>"
      ]
     },
     "metadata": {},
     "output_type": "display_data"
    }
   ],
   "source": [
    "some_data = np.random.normal(size=1000000)\n",
    "H, edges = np.histogram(some_data, bins=100)\n",
    "\n",
    "fig = plt.figure(figsize=(10, 4))\n",
    "plt.title('The \"Normal\" Distribution')\n",
    "plt.plot(edges[:-1], H)\n",
    "plt.xlim(-4, 4)\n",
    "plt.xlabel(\"Some Measurement\"); plt.ylabel(\"Frequency of Measurement\")\n",
    "plt.show()"
   ]
  },
  {
   "cell_type": "markdown",
   "metadata": {
    "slideshow": {
     "slide_type": "subslide"
    }
   },
   "source": [
    "## Averages/Means - Limitations\n",
    "\n",
    "- Sample averages can be very sensitive to outliers and the size of data set\n",
    "- Doesn't accurately describe data with multiple peaks and otherwise non-standard distributions\n",
    "- Recall our collections of height"
   ]
  },
  {
   "cell_type": "code",
   "execution_count": 57,
   "metadata": {
    "collapsed": false
   },
   "outputs": [
    {
     "name": "stdout",
     "output_type": "stream",
     "text": [
      "No outliers average: 6.14\n",
      "\n",
      "Data + baby average: 5.28\n",
      "\n",
      "Data + sasquatch average: 6.78\n"
     ]
    }
   ],
   "source": [
    "heights = [5.9, 5.5, 6.1, 6.0, 7.2]\n",
    "print(\"No outliers average: %.2f\\n\" % np.mean(heights))\n",
    "\n",
    "heights = [5.9, 5.5, 6.1, 6.0, 7.2, 1.0]\n",
    "print(\"Data + baby average: %.2f\\n\" % np.mean(heights))\n",
    "\n",
    "heights = [5.9, 5.5, 6.1, 6.0, 7.2, 10.0]\n",
    "print(\"Data + sasquatch average: %.2f\" % np.mean(heights))"
   ]
  },
  {
   "cell_type": "markdown",
   "metadata": {
    "slideshow": {
     "slide_type": "slide"
    }
   },
   "source": [
    "## Median - The Literal Middle"
   ]
  },
  {
   "cell_type": "markdown",
   "metadata": {
    "slideshow": {
     "slide_type": "subslide"
    }
   },
   "source": [
    "## Median - The Literal Middle\n",
    "\n",
    "- Put data in order from small to large\n",
    "- The median = the **exact** middle \n",
    "- If even number of data points, median is average of middle two\n",
    "- Also known as the 50th percentile (more later)\n",
    "- Advantage: insensitive to outliers"
   ]
  },
  {
   "cell_type": "code",
   "execution_count": 63,
   "metadata": {
    "collapsed": false,
    "slideshow": {
     "slide_type": "subslide"
    }
   },
   "outputs": [
    {
     "name": "stdout",
     "output_type": "stream",
     "text": [
      "The average: 3.70\n",
      "The actual middle: 3.00\n"
     ]
    }
   ],
   "source": [
    "some_values = [0., 1., 2., 3., 4., 5., 6., 7.]\n",
    "counts = [18, 36, 22, 58, 12, 6, 100]\n",
    "data = []\n",
    "\n",
    "for ii in range(len(counts)):\n",
    "    for jj in range(counts[ii]):\n",
    "        data.append(some_values[ii])\n",
    "        \n",
    "print(\"The average: %.2f\" % np.mean(data))\n",
    "print(\"The actual middle: %.2f\" % np.median(data))"
   ]
  },
  {
   "cell_type": "markdown",
   "metadata": {
    "slideshow": {
     "slide_type": "slide"
    }
   },
   "source": [
    "## Standard Deviation - The Spread of the Data"
   ]
  },
  {
   "cell_type": "markdown",
   "metadata": {
    "slideshow": {
     "slide_type": "subslide"
    }
   },
   "source": [
    "## Standard Deviation - The Spread of the Data\n",
    "\n",
    "- Based on the average $\\mu$ of the data.\n",
    "- \"On average, how far is each data point from the mean?\" \n",
    "- Two types to be aware of: **population** and **sample**\n",
    "    - **population** standard deviation: For when you have *every possible measurement* for some data set or you're only interested in the sample you have and don't wish to generalize, e.g. ALL the ages of adults in the United States\n",
    "    \n",
    "    \\begin{align}\n",
    "    \\sigma = \\sqrt{\\frac{1}{N}\\sum_{i=1}^N(x - \\mu)^2}\n",
    "    \\end{align}\n",
    "    \n",
    "    - **sample** standard deviation: For when you only have a sampling of the total population. When in doubt, assume the sample standard deviation (the for sufficiently large numbers, $N - 1 \\approx N$), e.g. the ages of American males in the Pacific North West\n",
    "    \n",
    "    \\begin{align}\n",
    "    s = \\sqrt{\\frac{1}{N - 1}\\sum_{i=1}^N(x - \\bar{x})^2}\n",
    "    \\end{align}\n",
    "\n",
    "    **note: $\\bar{x}$ is the sample mean, which follows the same equation as population mean"
   ]
  },
  {
   "cell_type": "code",
   "execution_count": 74,
   "metadata": {
    "collapsed": false,
    "slideshow": {
     "slide_type": "subslide"
    }
   },
   "outputs": [
    {
     "name": "stdout",
     "output_type": "stream",
     "text": [
      "Sample average: 5.89\n",
      "Sample standard deviation: 0.57\n",
      "Improper standard deviation: 0.54\n",
      "\n",
      "Sample average: 5.75\n",
      "Sample standard deviation: 0.43\n",
      "Less improper standard deviation: 0.43\n"
     ]
    }
   ],
   "source": [
    "heights = [5.9, 5.5, 6.1, 6.0, 7.2, 5.1, 5.3, 6.0, 5.8, 6.0]\n",
    "print(\"Sample average: %.2f\" % np.mean(heights))\n",
    "print(\"Sample standard deviation: %.2f\" % np.std(heights, ddof=1))\n",
    "print(\"Improper standard deviation: %.2f\\n\" % np.std(heights))\n",
    "\n",
    "large_num_heights = np.random.random(size=100000)*1.5 + 5.0\n",
    "print(\"Sample average: %.2f\" % np.mean(large_num_heights))\n",
    "print(\"Sample standard deviation: %.2f\" % np.std(large_num_heights, ddof=1))\n",
    "print(\"Less improper standard deviation: %.2f\" % np.std(large_num_heights))"
   ]
  },
  {
   "cell_type": "markdown",
   "metadata": {
    "slideshow": {
     "slide_type": "subslide"
    }
   },
   "source": [
    "## Standard Deviation - The Spread of the Data "
   ]
  },
  {
   "cell_type": "code",
   "execution_count": 89,
   "metadata": {
    "collapsed": false,
    "slideshow": {
     "slide_type": "-"
    }
   },
   "outputs": [
    {
     "data": {
      "image/png": "[encoded data removed]",
      "text/plain": [
       "<matplotlib.figure.Figure at 0x11b72ebd0>"
      ]
     },
     "metadata": {},
     "output_type": "display_data"
    }
   ],
   "source": [
    "some_data = np.random.normal(size=1000000)\n",
    "H, edges = np.histogram(some_data, bins=100)\n",
    "\n",
    "fig = plt.figure(figsize=(10, 4))\n",
    "plt.title('The \"Normal\" Distribution with Mean & St. Dev.')\n",
    "plt.plot(edges[:-1], H)\n",
    "plt.plot([np.mean(some_data), np.mean(some_data)],\n",
    "         [0, max(H)], linestyle=\"--\", color=\"r\")\n",
    "plt.fill_between([np.mean(some_data) - np.std(some_data), \n",
    "                  np.mean(some_data) + np.std(some_data)],\n",
    "                 [0, 0],\n",
    "                 [1.1 * max(H), 1.1 * max(H)], linestyle=\"--\", \n",
    "                 color='k', alpha=0.25)\n",
    "plt.xlim(-4, 4)\n",
    "plt.ylim(0, 1.05 * max(H))\n",
    "plt.xlabel(\"Some Measurement\")\n",
    "plt.ylabel(\"Frequency of Measurement\")\n",
    "plt.show()"
   ]
  },
  {
   "cell_type": "markdown",
   "metadata": {
    "slideshow": {
     "slide_type": "subslide"
    }
   },
   "source": [
    "## Standard Deviation - The 68-95-99 rule\n",
    "\n",
    "- 1 standard deviation **from the mean**: 68% of data in distribution\n",
    "- 2 standard deviations: 95%\n",
    "- 3 standard deviations: 99.7%\n",
    "- Applies solely to Normally-distributed data (more on that later)"
   ]
  },
  {
   "cell_type": "code",
   "execution_count": 88,
   "metadata": {
    "collapsed": false,
    "slideshow": {
     "slide_type": "subslide"
    }
   },
   "outputs": [
    {
     "data": {
      "image/png": "[encoded data removed]",
      "text/plain": [
       "<matplotlib.figure.Figure at 0x11b5cbad0>"
      ]
     },
     "metadata": {},
     "output_type": "display_data"
    }
   ],
   "source": [
    "some_data = np.random.normal(size=1000000)\n",
    "H, edges = np.histogram(some_data, bins=100)\n",
    "\n",
    "fig = plt.figure(figsize=(10, 4))\n",
    "plt.title('The \"Normal\" Distribution with Mean & St. Devs.')\n",
    "plt.plot(edges[:-1], H)\n",
    "plt.plot([np.mean(some_data), np.mean(some_data)], [0, max(H)], linestyle=\"--\", color=\"r\")\n",
    "plt.fill_between([np.mean(some_data) - 3*np.std(some_data), np.mean(some_data) + 3*np.std(some_data)], \n",
    "                 [0, 0], \n",
    "                 [1.1*max(H), 1.1*max(H)], linestyle=\"--\", color='k', alpha=0.25)\n",
    "plt.fill_between([np.mean(some_data) - 2*np.std(some_data), np.mean(some_data) + 2*np.std(some_data)], \n",
    "                 [0, 0], \n",
    "                 [1.1*max(H), 1.1*max(H)], linestyle=\"--\", color='k', alpha=0.25)\n",
    "plt.fill_between([np.mean(some_data) - np.std(some_data), np.mean(some_data) + np.std(some_data)], \n",
    "                 [0, 0], \n",
    "                 [1.1*max(H), 1.1*max(H)], linestyle=\"--\", color='k', alpha=0.25)\n",
    "plt.xlim(-4, 4)\n",
    "plt.ylim(0, 1.05*max(H))\n",
    "plt.xlabel(\"Some Measurement\"); plt.ylabel(\"Frequency of Measurement\")\n",
    "plt.show()"
   ]
  },
  {
   "cell_type": "markdown",
   "metadata": {
    "slideshow": {
     "slide_type": "slide"
    }
   },
   "source": [
    "## Mode - The most frequent thing(s)"
   ]
  },
  {
   "cell_type": "markdown",
   "metadata": {
    "slideshow": {
     "slide_type": "subslide"
    }
   },
   "source": [
    "## Mode - The most frequent thing(s)\n",
    "\n",
    "- Nothing fancy here; the mode is whatever number(s) pop up most often"
   ]
  },
  {
   "cell_type": "code",
   "execution_count": 100,
   "metadata": {
    "collapsed": false
   },
   "outputs": [
    {
     "name": "stdout",
     "output_type": "stream",
     "text": [
      "The mode: 6\n"
     ]
    }
   ],
   "source": [
    "import scipy.stats as sp\n",
    "\n",
    "some_values = [0., 1., 2., 3., 4., 5., 6., 7.]\n",
    "counts1 = [18, 36, 22, 58, 12, 6, 100]\n",
    "data1 = []\n",
    "\n",
    "for ii in range(len(counts1)):\n",
    "    for jj in range(counts1[ii]):\n",
    "        data.append(some_values[ii])\n",
    "        \n",
    "print(\"The mode: %g\" % sp.mode(data)[0])"
   ]
  },
  {
   "cell_type": "markdown",
   "metadata": {
    "slideshow": {
     "slide_type": "slide"
    }
   },
   "source": [
    "## Quantiles - Values some fraction of the way into something"
   ]
  },
  {
   "cell_type": "markdown",
   "metadata": {
    "slideshow": {
     "slide_type": "subslide"
    }
   },
   "source": [
    "## Quantiles\n",
    "\n",
    "- If I'm some percentage through ordered data, what value do I get?\n",
    "- 50th percentile = median = $q_{50}$\n",
    "- One quartile: $q_{25}$\n",
    "- Interquartile width - the difference between $q_{75}$ and $q_{25}$:\n",
    "$$IQR = q_{75} - q_{25}$$"
   ]
  },
  {
   "cell_type": "code",
   "execution_count": 104,
   "metadata": {
    "collapsed": false
   },
   "outputs": [
    {
     "name": "stdout",
     "output_type": "stream",
     "text": [
      "The average: 3.70\n",
      "The actual middle: 3.00\n",
      "\n",
      "The standard deviation: 2.13\n",
      "The interquartile width: 4.00\n"
     ]
    }
   ],
   "source": [
    "some_values = [0., 1., 2., 3., 4., 5., 6., 7.]\n",
    "counts = [18, 36, 22, 58, 12, 6, 100]\n",
    "data = []\n",
    "\n",
    "for ii in range(len(counts)):\n",
    "    for jj in range(counts[ii]):\n",
    "        data.append(some_values[ii])\n",
    "        \n",
    "print(\"The average: %.2f\" % np.mean(data))\n",
    "print(\"The actual middle: %.2f\\n\" % np.median(data))\n",
    "\n",
    "print(\"The standard deviation: %.2f\" % np.std(data))\n",
    "q75, q25 = np.percentile(data, [75 ,25])\n",
    "print(\"The interquartile width: %.2f\" % (q75 - q25))"
   ]
  },
  {
   "cell_type": "markdown",
   "metadata": {
    "slideshow": {
     "slide_type": "slide"
    }
   },
   "source": [
    "## Descriptive Statistic Module References\n",
    "- <b>[numpy.mean](http://docs.scipy.org/doc/numpy-1.10.0/reference/generated/numpy.mean.html)</b>\n",
    "- <b>[numpy.std](http://docs.scipy.org/doc/numpy-1.10.0/reference/generated/numpy.std.html)</b>\n",
    "- <b>[numpy.percentile](http://docs.scipy.org/doc/numpy-1.10.0/reference/generated/numpy.percentile.html)</b>\n",
    "- <b>[numpy.median](http://docs.scipy.org/doc/numpy-1.10.0/reference/generated/numpy.median.html)</b>"
   ]
  }
 ],
 "metadata": {
  "celltoolbar": "Slideshow",
  "kernelspec": {
   "display_name": "Python 2",
   "language": "python",
   "name": "python2"
  },
  "language_info": {
   "codemirror_mode": {
    "name": "ipython",
    "version": 2
   },
   "file_extension": ".py",
   "mimetype": "text/x-python",
   "name": "python",
   "nbconvert_exporter": "python",
   "pygments_lexer": "ipython2",
   "version": "2.7.11"
  }
 },
 "nbformat": 4,
 "nbformat_minor": 0
}
