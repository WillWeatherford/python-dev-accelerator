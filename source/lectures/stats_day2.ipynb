{
 "cells": [
  {
   "cell_type": "markdown",
   "metadata": {
    "slideshow": {
     "slide_type": "slide"
    }
   },
   "source": [
    "# Statistics 2: Probability, Distributions, & Tests\n",
    "\n",
    "**Package/module refs:** \n",
    "\n",
    "- [pandas](http://pandas.pydata.org/pandas-docs/version/0.17.0/generated/pandas.DataFrame.html) for storing your data\n",
    "- [numpy](http://docs.scipy.org/doc/numpy-1.10.0/reference/arrays.html) also for storing data (as arrays), and other awesome things\n",
    "- [math.factorial](https://docs.python.org/2/library/math.html) for factorials\n",
    "- [scipy.stats](http://docs.scipy.org/doc/scipy/reference/stats.html) for t-tests and distribution functions\n",
    "- [matplotlib.pyplot](http://matplotlib.org/api/pyplot_api.html) for visualizing your data\n",
    "- [my tutorial on plotting data](https://github.com/nhuntwalker/teaching/blob/master/plotting_in_python.ipynb). It's focused on Astronomy but is universally (HA!) applicable"
   ]
  },
  {
   "cell_type": "markdown",
   "metadata": {
    "slideshow": {
     "slide_type": "slide"
    }
   },
   "source": [
    "## Handling Null Data\n",
    "\n",
    "No dataset is perfect. Most data that you work with, especially human-compiled data, will be somewhat incomplete. Missing values. When incomplete data is loaded with [pandas.read_csv](http://pandas.pydata.org/pandas-docs/version/0.17.0/generated/pandas.read_csv.html), [numpy.loadtxt](http://docs.scipy.org/doc/numpy-1.10.0/reference/generated/numpy.loadtxt.html), or [numpy.genfromtxt](http://docs.scipy.org/doc/numpy-1.10.0/reference/generated/numpy.genfromtxt.html), those missing pieces will be filled by a default `NaN` (not a number) value."
   ]
  },
  {
   "cell_type": "code",
   "execution_count": 1,
   "metadata": {
    "collapsed": false,
    "slideshow": {
     "slide_type": "subslide"
    }
   },
   "outputs": [
    {
     "data": {
      "text/html": [
       "<div>\n",
       "<table border=\"1\" class=\"dataframe\">\n",
       "  <thead>\n",
       "    <tr style=\"text-align: right;\">\n",
       "      <th></th>\n",
       "      <th>Name</th>\n",
       "      <th>Age</th>\n",
       "      <th>Hometown</th>\n",
       "      <th>Country</th>\n",
       "      <th>Desired Income</th>\n",
       "      <th>Favorite Food</th>\n",
       "      <th>Number of Cats</th>\n",
       "    </tr>\n",
       "  </thead>\n",
       "  <tbody>\n",
       "    <tr>\n",
       "      <th>0</th>\n",
       "      <td>James</td>\n",
       "      <td>22</td>\n",
       "      <td>New York</td>\n",
       "      <td>NaN</td>\n",
       "      <td>75000.0</td>\n",
       "      <td>NaN</td>\n",
       "      <td>0.0</td>\n",
       "    </tr>\n",
       "    <tr>\n",
       "      <th>1</th>\n",
       "      <td>Bob</td>\n",
       "      <td>25</td>\n",
       "      <td>Seattle</td>\n",
       "      <td>USA</td>\n",
       "      <td>0.0</td>\n",
       "      <td>pad thai</td>\n",
       "      <td>2.0</td>\n",
       "    </tr>\n",
       "    <tr>\n",
       "      <th>2</th>\n",
       "      <td>Annette</td>\n",
       "      <td>28</td>\n",
       "      <td>San Francisco</td>\n",
       "      <td>USA</td>\n",
       "      <td>NaN</td>\n",
       "      <td>spaghetti</td>\n",
       "      <td>1.0</td>\n",
       "    </tr>\n",
       "    <tr>\n",
       "      <th>3</th>\n",
       "      <td>Florence</td>\n",
       "      <td>23</td>\n",
       "      <td>Beijing</td>\n",
       "      <td>China</td>\n",
       "      <td>60000.0</td>\n",
       "      <td>xiaolong bao</td>\n",
       "      <td>4.0</td>\n",
       "    </tr>\n",
       "    <tr>\n",
       "      <th>4</th>\n",
       "      <td>Martha</td>\n",
       "      <td>30</td>\n",
       "      <td>Kansas City</td>\n",
       "      <td>NaN</td>\n",
       "      <td>NaN</td>\n",
       "      <td>corn</td>\n",
       "      <td>3.0</td>\n",
       "    </tr>\n",
       "    <tr>\n",
       "      <th>5</th>\n",
       "      <td>Desean</td>\n",
       "      <td>27</td>\n",
       "      <td>Newark</td>\n",
       "      <td>USA</td>\n",
       "      <td>85000.0</td>\n",
       "      <td>NaN</td>\n",
       "      <td>NaN</td>\n",
       "    </tr>\n",
       "    <tr>\n",
       "      <th>6</th>\n",
       "      <td>Jamal</td>\n",
       "      <td>28</td>\n",
       "      <td>New York</td>\n",
       "      <td>NaN</td>\n",
       "      <td>65000.0</td>\n",
       "      <td>pizza</td>\n",
       "      <td>3.0</td>\n",
       "    </tr>\n",
       "    <tr>\n",
       "      <th>7</th>\n",
       "      <td>Kaede</td>\n",
       "      <td>31</td>\n",
       "      <td>Kyoto</td>\n",
       "      <td>Japan</td>\n",
       "      <td>65000.0</td>\n",
       "      <td>sushi</td>\n",
       "      <td>4.0</td>\n",
       "    </tr>\n",
       "    <tr>\n",
       "      <th>8</th>\n",
       "      <td>Milton</td>\n",
       "      <td>23</td>\n",
       "      <td>Austin</td>\n",
       "      <td>NaN</td>\n",
       "      <td>78000.0</td>\n",
       "      <td>bbq</td>\n",
       "      <td>NaN</td>\n",
       "    </tr>\n",
       "    <tr>\n",
       "      <th>9</th>\n",
       "      <td>Ivana</td>\n",
       "      <td>29</td>\n",
       "      <td>Moscow</td>\n",
       "      <td>Russia</td>\n",
       "      <td>NaN</td>\n",
       "      <td>borscht</td>\n",
       "      <td>1.0</td>\n",
       "    </tr>\n",
       "    <tr>\n",
       "      <th>10</th>\n",
       "      <td>Jorge</td>\n",
       "      <td>35</td>\n",
       "      <td>Rio de Janeiro</td>\n",
       "      <td>Brasil</td>\n",
       "      <td>90000.0</td>\n",
       "      <td>farofa</td>\n",
       "      <td>2.0</td>\n",
       "    </tr>\n",
       "  </tbody>\n",
       "</table>\n",
       "</div>"
      ],
      "text/plain": [
       "        Name  Age        Hometown Country  Desired Income Favorite Food  \\\n",
       "0      James   22        New York     NaN         75000.0           NaN   \n",
       "1        Bob   25         Seattle     USA             0.0      pad thai   \n",
       "2    Annette   28   San Francisco     USA             NaN     spaghetti   \n",
       "3   Florence   23         Beijing   China         60000.0  xiaolong bao   \n",
       "4     Martha   30     Kansas City     NaN             NaN          corn   \n",
       "5     Desean   27          Newark     USA         85000.0           NaN   \n",
       "6      Jamal   28        New York     NaN         65000.0         pizza   \n",
       "7      Kaede   31           Kyoto   Japan         65000.0         sushi   \n",
       "8     Milton   23          Austin     NaN         78000.0           bbq   \n",
       "9      Ivana   29          Moscow  Russia             NaN       borscht   \n",
       "10     Jorge   35  Rio de Janeiro  Brasil         90000.0        farofa   \n",
       "\n",
       "    Number of Cats  \n",
       "0              0.0  \n",
       "1              2.0  \n",
       "2              1.0  \n",
       "3              4.0  \n",
       "4              3.0  \n",
       "5              NaN  \n",
       "6              3.0  \n",
       "7              4.0  \n",
       "8              NaN  \n",
       "9              1.0  \n",
       "10             2.0  "
      ]
     },
     "execution_count": 1,
     "metadata": {},
     "output_type": "execute_result"
    }
   ],
   "source": [
    "import pandas as pd\n",
    "import numpy as np\n",
    "\n",
    "incomplete_data = pd.read_csv(\"../downloads/nmhw_sample_data.csv\")\n",
    "incomplete_data"
   ]
  },
  {
   "cell_type": "markdown",
   "metadata": {
    "slideshow": {
     "slide_type": "subslide"
    }
   },
   "source": [
    "Always keep in mind that a \"NaN\" value ***only*** signifies a non-entry. Often, it's tempting to just replace NaN values with zeros, or `False`, but to universally assume that you can or even should do that doesn't do justice to what a NaN is. To be sure, NaN values ***are numerical*** but neither represent any actual number nor evaluate as False, None, or infinity."
   ]
  },
  {
   "cell_type": "code",
   "execution_count": 2,
   "metadata": {
    "collapsed": false
   },
   "outputs": [
    {
     "name": "stdout",
     "output_type": "stream",
     "text": [
      "nan\n",
      "<class 'float'>\n",
      "False\n",
      "False\n",
      "This still prints something because it still represents a thing.\n"
     ]
    }
   ],
   "source": [
    "this_val = incomplete_data.Country.iloc[0]\n",
    "print(this_val)\n",
    "print(type(this_val))\n",
    "print((this_val == 0) | (this_val < 0) | (this_val > 0) | (this_val == np.inf))\n",
    "print((this_val == False) | (this_val == None))\n",
    "if this_val:\n",
    "    print(\"This still prints something because it still represents a thing.\")"
   ]
  },
  {
   "cell_type": "markdown",
   "metadata": {
    "slideshow": {
     "slide_type": "subslide"
    }
   },
   "source": [
    "There are many ways to handle NaN values and many entries (or lackthereof) that should be recognized as such. Pandas allows you to recognize a variety of values as null upon entry with the `na_values` parameter of `pandas.read_csv`"
   ]
  },
  {
   "cell_type": "code",
   "execution_count": 3,
   "metadata": {
    "collapsed": true
   },
   "outputs": [],
   "source": [
    "incomplete_data = pd.read_csv(\"../downloads/nmhw_sample_data.csv\", na_values=[\"null\", \"NULL\", -9999, np.inf])"
   ]
  },
  {
   "cell_type": "markdown",
   "metadata": {
    "slideshow": {
     "slide_type": "subslide"
    }
   },
   "source": [
    "Once assigned to a variable, NaN values can be dealt with on a column-by-column basis or throughout the entire DataFrame with the `fillna` method. A NaN might be set to some default value, as you may be able to assume a meaningful value for a non-entry. You may also decide that a different column's NaN may need to be evaluated in order to get it out of the way in filtering or some other data process later on."
   ]
  },
  {
   "cell_type": "code",
   "execution_count": 4,
   "metadata": {
    "collapsed": false
   },
   "outputs": [
    {
     "name": "stdout",
     "output_type": "stream",
     "text": [
      "0        USA\n",
      "1        USA\n",
      "2        USA\n",
      "3      China\n",
      "4        USA\n",
      "5        USA\n",
      "6        USA\n",
      "7      Japan\n",
      "8        USA\n",
      "9     Russia\n",
      "10    Brasil\n",
      "Name: Country, dtype: object\n"
     ]
    }
   ],
   "source": [
    "incomplete_data.Country.fillna(\"USA\", inplace=True)\n",
    "print(incomplete_data.Country)"
   ]
  },
  {
   "cell_type": "code",
   "execution_count": 5,
   "metadata": {
    "collapsed": false
   },
   "outputs": [
    {
     "name": "stdout",
     "output_type": "stream",
     "text": [
      "0      0.0\n",
      "1      2.0\n",
      "2      1.0\n",
      "3      4.0\n",
      "4      3.0\n",
      "5    -99.0\n",
      "6      3.0\n",
      "7      4.0\n",
      "8    -99.0\n",
      "9      1.0\n",
      "10     2.0\n",
      "Name: Number of Cats, dtype: float64\n"
     ]
    }
   ],
   "source": [
    "incomplete_data[\"Number of Cats\"].fillna(-99, inplace=True)\n",
    "print(incomplete_data[\"Number of Cats\"])"
   ]
  },
  {
   "cell_type": "markdown",
   "metadata": {
    "slideshow": {
     "slide_type": "subslide"
    }
   },
   "source": [
    "Other times it would make more sense to just leave NaNs as they are. Aggregate operations like means and sums will just ignore them. Though be aware that they will screw up iterative processes with strings."
   ]
  },
  {
   "cell_type": "code",
   "execution_count": 6,
   "metadata": {
    "collapsed": false
   },
   "outputs": [
    {
     "name": "stdout",
     "output_type": "stream",
     "text": [
      "64750.0\n"
     ]
    },
    {
     "ename": "AttributeError",
     "evalue": "'float' object has no attribute 'split'",
     "output_type": "error",
     "traceback": [
      "\u001b[0;31m---------------------------------------------------------------------------\u001b[0m",
      "\u001b[0;31mAttributeError\u001b[0m                            Traceback (most recent call last)",
      "\u001b[0;32m<ipython-input-6-89f3d5c32e54>\u001b[0m in \u001b[0;36m<module>\u001b[0;34m()\u001b[0m\n\u001b[1;32m      1\u001b[0m \u001b[0mprint\u001b[0m\u001b[0;34m(\u001b[0m\u001b[0mincomplete_data\u001b[0m\u001b[0;34m[\u001b[0m\u001b[0;34m\"Desired Income\"\u001b[0m\u001b[0;34m]\u001b[0m\u001b[0;34m.\u001b[0m\u001b[0mmean\u001b[0m\u001b[0;34m(\u001b[0m\u001b[0;34m)\u001b[0m\u001b[0;34m)\u001b[0m\u001b[0;34m\u001b[0m\u001b[0m\n\u001b[0;32m----> 2\u001b[0;31m \u001b[0mincomplete_data\u001b[0m\u001b[0;34m[\u001b[0m\u001b[0;34m\"Favorite Food\"\u001b[0m\u001b[0;34m]\u001b[0m\u001b[0;34m.\u001b[0m\u001b[0mmap\u001b[0m\u001b[0;34m(\u001b[0m\u001b[0;32mlambda\u001b[0m \u001b[0mx\u001b[0m\u001b[0;34m:\u001b[0m \u001b[0mx\u001b[0m\u001b[0;34m.\u001b[0m\u001b[0msplit\u001b[0m\u001b[0;34m(\u001b[0m\u001b[0;34m\" \"\u001b[0m\u001b[0;34m)\u001b[0m\u001b[0;34m)\u001b[0m\u001b[0;34m\u001b[0m\u001b[0m\n\u001b[0m",
      "\u001b[0;32m/Users/Nick/anaconda/envs/python-dev-accelerator/lib/python3.5/site-packages/pandas/core/series.py\u001b[0m in \u001b[0;36mmap\u001b[0;34m(self, arg, na_action)\u001b[0m\n\u001b[1;32m   2119\u001b[0m                                      index=self.index).__finalize__(self)\n\u001b[1;32m   2120\u001b[0m         \u001b[0;32melse\u001b[0m\u001b[0;34m:\u001b[0m\u001b[0;34m\u001b[0m\u001b[0m\n\u001b[0;32m-> 2121\u001b[0;31m             \u001b[0mmapped\u001b[0m \u001b[0;34m=\u001b[0m \u001b[0mmap_f\u001b[0m\u001b[0;34m(\u001b[0m\u001b[0mvalues\u001b[0m\u001b[0;34m,\u001b[0m \u001b[0marg\u001b[0m\u001b[0;34m)\u001b[0m\u001b[0;34m\u001b[0m\u001b[0m\n\u001b[0m\u001b[1;32m   2122\u001b[0m             return self._constructor(mapped,\n\u001b[1;32m   2123\u001b[0m                                      index=self.index).__finalize__(self)\n",
      "\u001b[0;32mpandas/src/inference.pyx\u001b[0m in \u001b[0;36mpandas.lib.map_infer (pandas/lib.c:63043)\u001b[0;34m()\u001b[0m\n",
      "\u001b[0;32m<ipython-input-6-89f3d5c32e54>\u001b[0m in \u001b[0;36m<lambda>\u001b[0;34m(x)\u001b[0m\n\u001b[1;32m      1\u001b[0m \u001b[0mprint\u001b[0m\u001b[0;34m(\u001b[0m\u001b[0mincomplete_data\u001b[0m\u001b[0;34m[\u001b[0m\u001b[0;34m\"Desired Income\"\u001b[0m\u001b[0;34m]\u001b[0m\u001b[0;34m.\u001b[0m\u001b[0mmean\u001b[0m\u001b[0;34m(\u001b[0m\u001b[0;34m)\u001b[0m\u001b[0;34m)\u001b[0m\u001b[0;34m\u001b[0m\u001b[0m\n\u001b[0;32m----> 2\u001b[0;31m \u001b[0mincomplete_data\u001b[0m\u001b[0;34m[\u001b[0m\u001b[0;34m\"Favorite Food\"\u001b[0m\u001b[0;34m]\u001b[0m\u001b[0;34m.\u001b[0m\u001b[0mmap\u001b[0m\u001b[0;34m(\u001b[0m\u001b[0;32mlambda\u001b[0m \u001b[0mx\u001b[0m\u001b[0;34m:\u001b[0m \u001b[0mx\u001b[0m\u001b[0;34m.\u001b[0m\u001b[0msplit\u001b[0m\u001b[0;34m(\u001b[0m\u001b[0;34m\" \"\u001b[0m\u001b[0;34m)\u001b[0m\u001b[0;34m)\u001b[0m\u001b[0;34m\u001b[0m\u001b[0m\n\u001b[0m",
      "\u001b[0;31mAttributeError\u001b[0m: 'float' object has no attribute 'split'"
     ]
    }
   ],
   "source": [
    "print(incomplete_data[\"Desired Income\"].mean())\n",
    "incomplete_data[\"Favorite Food\"].map(lambda x: x.split(\" \"))"
   ]
  },
  {
   "cell_type": "markdown",
   "metadata": {
    "slideshow": {
     "slide_type": "subslide"
    }
   },
   "source": [
    "It's worth noting that while NaN values essentially mean the same no matter what, not all NaNs are created equal. A pandas nan is not the same as a numpy nan (although oddly-enough will be recognized as a nan-like value), and vice versa."
   ]
  },
  {
   "cell_type": "code",
   "execution_count": 7,
   "metadata": {
    "collapsed": false
   },
   "outputs": [
    {
     "name": "stdout",
     "output_type": "stream",
     "text": [
      "False\n",
      "True\n",
      "True\n",
      "<class 'float'>\n"
     ]
    }
   ],
   "source": [
    "print(this_val == np.nan)\n",
    "print(np.isnan(this_val))\n",
    "print(pd.isnull(np.nan))\n",
    "print(type(np.nan))"
   ]
  },
  {
   "cell_type": "markdown",
   "metadata": {
    "slideshow": {
     "slide_type": "subslide"
    }
   },
   "source": [
    "At the end of the day, no matter what you decide to do with NaNs make sure that you know your data and have an idea of what you want to do with it. All choices will follow from the nature of your data set and what your analysis entails."
   ]
  },
  {
   "cell_type": "markdown",
   "metadata": {
    "slideshow": {
     "slide_type": "slide"
    }
   },
   "source": [
    "## Basic Rules of Probability\n",
    "- The chance that some event happens given all events that could happen in that category.\n",
    "- Probabilities denote **the chance** that something happens, **not the guarantee**\n",
    "- $0 \\le p(x) \\le 1$ or $0\\% \\le p(x) \\le 100\\%$\n",
    "- For any set of associated but separate events, $\\displaystyle\\sum_i p(x_i) = 1$\n",
    "- For related events A and B, the probablity that they happen together is\n",
    "\n",
    "\\begin{align}\n",
    "p(A \\cap B) = p(A) \\cdot p(B)\n",
    "\\end{align}\n",
    "\n",
    "- The probability that either one of them happens is \n",
    "\n",
    "\\begin{align}\n",
    "p(A \\cup B) = p(A) + p(B) - p(A \\cap B)\n",
    "\\end{align}\n",
    "\n",
    "<img src=\"../downloads/sum_of_probs.png\"/>"
   ]
  },
  {
   "cell_type": "markdown",
   "metadata": {
    "slideshow": {
     "slide_type": "subslide"
    }
   },
   "source": [
    "## Examples:\n",
    "- p(coin toss = Head)\n",
    "- p(rolling D20 and getting ≤ 11)\n",
    "- p(5 coin tosses = Head)\n",
    "- For bag of 4 white balls and 6 black balls, p(drawing 2 white then 2 black)"
   ]
  },
  {
   "cell_type": "markdown",
   "metadata": {
    "slideshow": {
     "slide_type": "slide"
    }
   },
   "source": [
    "## Probability Distributions"
   ]
  },
  {
   "cell_type": "code",
   "execution_count": 8,
   "metadata": {
    "collapsed": false,
    "slideshow": {
     "slide_type": "subslide"
    }
   },
   "outputs": [
    {
     "data": {
      "image/png": "[encoded data removed]",
      "text/plain": [
       "<matplotlib.figure.Figure at 0x112f58390>"
      ]
     },
     "metadata": {},
     "output_type": "display_data"
    }
   ],
   "source": [
    "import matplotlib.pyplot as plt\n",
    "%matplotlib inline\n",
    "\n",
    "data = pd.read_csv(\"../downloads/prosperLoanData_truncated.csv\", sep=\",\")\n",
    "data = data[data.StatedMonthlyIncome < 2E4]\n",
    "H, edges = np.histogram(data.StatedMonthlyIncome, bins=2)\n",
    "\n",
    "plt.figure(figsize=(10, 4))\n",
    "ax = plt.subplot(111)\n",
    "ax.bar(edges[:-1], H / float(sum(H)), width=edges[1] - edges[0])\n",
    "ax.text(0.9, 0.9, \"%g loans\" % len(data),\n",
    "        horizontalalignment=\"right\", transform=ax.transAxes)\n",
    "ax.set_xlabel(\"Stated Monthly Income ($)\")\n",
    "ax.set_ylabel(\"Probability of Income Range\")\n",
    "ax.minorticks_on()\n",
    "plt.show()"
   ]
  },
  {
   "cell_type": "code",
   "execution_count": 9,
   "metadata": {
    "collapsed": false,
    "slideshow": {
     "slide_type": "subslide"
    }
   },
   "outputs": [
    {
     "data": {
      "image/png": "[encoded data removed]",
      "text/plain": [
       "<matplotlib.figure.Figure at 0x103389d68>"
      ]
     },
     "metadata": {},
     "output_type": "display_data"
    }
   ],
   "source": [
    "H, edges = np.histogram(data.StatedMonthlyIncome, bins=4)\n",
    "\n",
    "plt.figure(figsize=(10, 4))\n",
    "ax = plt.subplot(111)\n",
    "ax.bar(edges[:-1], H / float(sum(H)), width=edges[1] - edges[0])\n",
    "ax.text(0.9, 0.9, \"%g loans\" % len(data),\n",
    "        horizontalalignment=\"right\", transform=ax.transAxes)\n",
    "ax.set_xlabel(\"Stated Monthly Income ($)\")\n",
    "ax.set_ylabel(\"Probability of Income Range\")\n",
    "ax.minorticks_on()\n",
    "plt.show()"
   ]
  },
  {
   "cell_type": "code",
   "execution_count": 10,
   "metadata": {
    "collapsed": false,
    "slideshow": {
     "slide_type": "subslide"
    }
   },
   "outputs": [
    {
     "data": {
      "image/png": "[encoded data removed]",
      "text/plain": [
       "<matplotlib.figure.Figure at 0x11815d320>"
      ]
     },
     "metadata": {},
     "output_type": "display_data"
    }
   ],
   "source": [
    "H, edges = np.histogram(data.StatedMonthlyIncome, bins=20)\n",
    "\n",
    "plt.figure(figsize=(10, 4))\n",
    "ax = plt.subplot(111)\n",
    "ax.bar(edges[:-1], H / float(sum(H)), width=edges[1] - edges[0])\n",
    "ax.text(0.9, 0.9, \"%g loans\" % len(data),\n",
    "        horizontalalignment=\"right\", transform=ax.transAxes)\n",
    "ax.set_xlabel(\"Stated Monthly Income ($)\")\n",
    "ax.set_ylabel(\"Probability of Income Range\")\n",
    "ax.minorticks_on()\n",
    "plt.show()"
   ]
  },
  {
   "cell_type": "code",
   "execution_count": 11,
   "metadata": {
    "collapsed": false,
    "slideshow": {
     "slide_type": "subslide"
    }
   },
   "outputs": [
    {
     "data": {
      "image/png": "[encoded data removed]",
      "text/plain": [
       "<matplotlib.figure.Figure at 0x11b3e5f60>"
      ]
     },
     "metadata": {},
     "output_type": "display_data"
    }
   ],
   "source": [
    "H, edges = np.histogram(data.StatedMonthlyIncome, bins=50)\n",
    "\n",
    "plt.figure(figsize=(10, 4))\n",
    "ax = plt.subplot(111)\n",
    "ax.bar(edges[:-1], H / float(sum(H)), width=edges[1] - edges[0])\n",
    "ax.text(0.9, 0.9, \"%g loans\" % len(data),\n",
    "        horizontalalignment=\"right\", transform=ax.transAxes)\n",
    "ax.set_xlabel(\"Stated Monthly Income($)\")\n",
    "ax.set_ylabel(\"Probability of Income Range\")\n",
    "ax.minorticks_on()\n",
    "plt.show()"
   ]
  },
  {
   "cell_type": "markdown",
   "metadata": {
    "slideshow": {
     "slide_type": "skip"
    }
   },
   "source": [
    "Note that here I use `ax` to access the plot space of the figure, so that I can place text wherever I want it. If I don't use the `transform` parameter, then if I want to place text on a figure I have to specify the exact coordinates in the data space for where I want it to be. With transforming to the coordinate space of the figure, I can use the fact that coordinate space goes from 0 to 1 horizontally and vertically to place text easily. \n",
    "\n",
    "One issue is that if you use `ax`, you set axis labels using `ax.set_xlabel` and `ax.set_ylabel` instead of the normal methods with `plt.xlabel` and `plt.ylabel`. Similar for setting axis limits.\n",
    "\n",
    "Also note that with numpy arrays (and pandas DataFrames), you can perform arithmetic on the entire object at once. Also note that with numpy arrays specifically, you cannot alter the size of the array once it's been created. Fixed-size arrays make it faster, but the immutability of size can be a little difficult. At least you can alter the values inside the array easily through indexing."
   ]
  },
  {
   "cell_type": "markdown",
   "metadata": {
    "slideshow": {
     "slide_type": "slide"
    }
   },
   "source": [
    "## Cumulative Probability Distribution\n",
    "- The probability of getting a value less than x"
   ]
  },
  {
   "cell_type": "code",
   "execution_count": 12,
   "metadata": {
    "collapsed": false,
    "slideshow": {
     "slide_type": "subslide"
    }
   },
   "outputs": [
    {
     "data": {
      "image/png": "[encoded data removed]",
      "text/plain": [
       "<matplotlib.figure.Figure at 0x112eff9b0>"
      ]
     },
     "metadata": {},
     "output_type": "display_data"
    }
   ],
   "source": [
    "H, edges = np.histogram(data.StatedMonthlyIncome, bins=np.linspace(0, 2E4, 81))\n",
    "incomes = [5000, 10000, 15000]\n",
    "\n",
    "fig = plt.figure(figsize=(10, 6))\n",
    "fig.subplots_adjust(hspace=0) # smooshes vertical subplots together\n",
    "ax = plt.subplot(211) # 2 rows, 1 column, put this figure in the first cell\n",
    "ax.bar(edges[:-1], H / float(sum(H)), width=edges[1] - edges[0])\n",
    "for ii in incomes:\n",
    "    ax.plot([ii, ii], [0, 0.06], linestyle=\"--\", color='k')\n",
    "ax.set_ylabel(\"Probability of Income Range\")\n",
    "ax.set_xticklabels([]) # kills the numbers on the x-axis for this plot\n",
    "ax.minorticks_on()\n",
    "\n",
    "ax = plt.subplot(212) # 2 rows, 1 column, put this figure in the first cell\n",
    "probabilities = H.cumsum() / float(sum(H))\n",
    "ax.plot(edges[:-1], probabilities, linewidth=5, color=\"r\")\n",
    "for ii in incomes:\n",
    "    prob = probabilities[edges[:-1] == ii]\n",
    "    ax.plot([ii, ii], [0, prob], linestyle=\"--\", color='k')\n",
    "    ax.plot([0, ii], [prob, prob], linestyle=\"--\", color='k')\n",
    "    ax.text(ii + 2.5E2, prob * 0.5, \"p(x): %.2f\" % prob)\n",
    "ax.set_xlabel(\"Stated Monthly Income ($)\")\n",
    "ax.set_ylabel(\"Cumulative Probability\")\n",
    "ax.set_ylim(0, 0.99)\n",
    "ax.minorticks_on()\n",
    "plt.savefig(\"../downloads/cumulative_distribution.png\")\n",
    "plt.show()"
   ]
  },
  {
   "cell_type": "markdown",
   "metadata": {
    "slideshow": {
     "slide_type": "skip"
    }
   },
   "source": [
    "Numpy arrays have several methods, one of which is `cumsum()`. This method performs a cumulative sum on your array from left to right.\n",
    "\n",
    "```\n",
    "arr = np.array([1, 1, 1, 1, 1, 1, 1, 1])\n",
    "arr.cumsum()\n",
    ">>> array([1, 2, 3, 4, 5, 6, 7, 8])\n",
    "```"
   ]
  },
  {
   "cell_type": "markdown",
   "metadata": {
    "slideshow": {
     "slide_type": "subslide"
    }
   },
   "source": [
    "<img src=\"../downloads/cumulative_distribution.png\" />"
   ]
  },
  {
   "cell_type": "markdown",
   "metadata": {
    "slideshow": {
     "slide_type": "-"
    }
   },
   "source": [
    "- \"If I choose a person from this data set at random, there's a 58% chance that their monthly salary is less than \\$5,000\"\n",
    "- \"..., there's a 35% chance their monthly salary is between \\$5,000 and \\$10,000\"\n",
    "- \"..., there's a 1% chance their monthly salary is greater than \\$15,000\""
   ]
  },
  {
   "cell_type": "markdown",
   "metadata": {
    "slideshow": {
     "slide_type": "slide"
    }
   },
   "source": [
    "## The Gaussian/Normal Distribution\n",
    "- Theoretical curve describing the probability of getting some value x, given the mean and standard deviation of the data\n",
    "\n",
    "<img src=\"../downloads/gaussian_distribution.png\" />\n",
    "\n",
    "- $p(x|\\sigma, \\mu) = \\displaystyle\\frac{1}{\\sqrt{2\\pi\\sigma^2}}\\exp{\\left[\\frac{-(x - \\mu)^2}{2\\sigma^2}\\right]}$\n",
    "- The most commonly-used distribution\n",
    "- Ref: **Central Limit Theorem**\n",
    "- The Gist: The mean of samples drawn from an almost arbitrary distribution will approx. follow a Gaussian\n",
    "- Applied to everything, even when not appropriate"
   ]
  },
  {
   "cell_type": "code",
   "execution_count": 13,
   "metadata": {
    "collapsed": false,
    "slideshow": {
     "slide_type": "subslide"
    }
   },
   "outputs": [
    {
     "data": {
      "image/png": "[encoded data removed]",
      "text/plain": [
       "<matplotlib.figure.Figure at 0x112effd68>"
      ]
     },
     "metadata": {},
     "output_type": "display_data"
    }
   ],
   "source": [
    "del data\n",
    "\n",
    "def gaussian(x, mu, std):\n",
    "    return (1. / np.sqrt(2 * np.pi * std**2) * np.exp(-0.5 * ((x - mu) / std)**2))\n",
    "x = np.linspace(-4, 4, 1000)\n",
    "fig = plt.figure(figsize=(8, 4))\n",
    "plt.plot(x, gaussian(x, 0, 0.5), label=\"$\\mu = 0, \\sigma = 0.5$\")\n",
    "plt.plot(x, gaussian(x, 0, 1), label=\"$\\mu = 0, \\sigma = 1$\")\n",
    "plt.plot(x, gaussian(x, 0, 2), label=\"$\\mu = 0, \\sigma = 2$\")\n",
    "plt.xlabel(\"$x$\", fontsize=16)\n",
    "plt.ylabel(\"$p(x)$\", fontsize=16)\n",
    "plt.legend()\n",
    "plt.savefig(\"../downloads/gaussian_distribution.png\")\n",
    "plt.show()"
   ]
  },
  {
   "cell_type": "markdown",
   "metadata": {
    "slideshow": {
     "slide_type": "subslide"
    }
   },
   "source": [
    "## The Binomial Distribution\n",
    "<img src=\"../downloads/binomial_distribution.png\" />\n",
    "- Describes the distribution of a variable that can only take two values (0/1, False/True, Heads/Tails)\n",
    "- For *N* trials...\n",
    "- I know the probability *b* of getting one outcome per trial...\n",
    "- I can describe the probability of getting *k* successes of that outcome:\n",
    "\n",
    "$$p(k|b,N) = \\displaystyle\\frac{N!}{k!(N-k)!}b^k(1 - b)^{N-k}$$\n",
    "\n",
    "- The mean $\\bar{k} = b\\,N$\n",
    "- The standard deviation $\\sigma_k = \\sqrt{N \\,b \\,(1 - b)}$\n",
    "- **NOTE: does not describe probability of getting consecutive successes or any particular combination of successes & failures** "
   ]
  },
  {
   "cell_type": "code",
   "execution_count": 14,
   "metadata": {
    "collapsed": false,
    "slideshow": {
     "slide_type": "skip"
    }
   },
   "outputs": [
    {
     "data": {
      "image/png": "[encoded data removed]",
      "text/plain": [
       "<matplotlib.figure.Figure at 0x11c442e80>"
      ]
     },
     "metadata": {},
     "output_type": "display_data"
    }
   ],
   "source": [
    "from math import factorial\n",
    "\n",
    "\n",
    "def binomial(k, b, N):\n",
    "    return float(factorial(N)) / (factorial(k) * factorial(N - k)) * b ** k * (1 - b)**(N - k)\n",
    "\n",
    "x = range(1, 100)\n",
    "y0 = [binomial(val, 0.5, 100) for val in x]\n",
    "y1 = [binomial(val, 0.5, 50) for val in range(0, 50)]\n",
    "y2 = [binomial(val, 0.6, 100) for val in x]\n",
    "fig = plt.figure(figsize=(8, 4))\n",
    "plt.plot(x, y0, label=\"$b = 0.5, N = 100$\")\n",
    "plt.plot(range(0, 50), y1, label=\"$b = 0.5, N = 50$\")\n",
    "plt.plot(x, y2, label=\"$b = 0.6, N = 100$\")\n",
    "plt.xlabel(\"$k$\", fontsize=16)\n",
    "plt.ylabel(\"$p(k | b, N)$\", fontsize=16)\n",
    "plt.legend()\n",
    "plt.savefig(\"../downloads/binomial_distribution.png\")\n",
    "plt.show()"
   ]
  },
  {
   "cell_type": "markdown",
   "metadata": {
    "slideshow": {
     "slide_type": "slide"
    }
   },
   "source": [
    "## Hypothesis Testing and Measurement Significance\n",
    "- Chance occurrence vs meaningful occurrence\n",
    "- Sticking with the Gaussian distribution of random samples\n",
    "- Either reject the Null Hypothesis $H_0$ or fail to reject it. \n",
    "- **Can never PROVE absolutely True or absolutely False**\n",
    "- Hypothesis conclusions entirely dependent on the sample. Cannot be assumed to be universal.\n",
    "- Significance levels ($\\alpha$) help decide whether to reject $H_0$\n",
    "    - Typical $\\alpha$-levels: 0.05, 0.025, 0.01\n",
    "- Statistical tests produce two things: \n",
    "    - a numerical statistic showing the distance between the means of two distributions (more later)\n",
    "    - a \"p-value\" showing the probability of getting this result **given the null hypothesis**\n",
    "- If your p-value is less than some alpha-level, then it's statistically significant to that level\n",
    "    - ex: p = 0.035; my test rejects the null hypothesis at $\\alpha = 0.05$ significance level, but not at the $\\alpha = 0.025$ level.\n",
    "    - ex: p = 0.13; my tests fails to reject the null hypothesis"
   ]
  },
  {
   "cell_type": "markdown",
   "metadata": {
    "slideshow": {
     "slide_type": "subslide"
    }
   },
   "source": [
    "## Students' t-Test\n",
    "- \"Students\" was the pseudonym of the originator\n",
    "- Computes a statistic (the \"t\" statistic) based on the means and variances of samples\n",
    "\n",
    "    $$t = \\displaystyle\\frac{\\bar{x_1} - \\bar{x_2}}{\\sqrt{\\frac{s_1^2}{n_1} + \\frac{s_2^2}{n_2}}}$$\n",
    "\n",
    "- **Defs:**\n",
    "    - $s_i$: standard deviation of sample $i$\n",
    "    - $n_i$: number of items in sample $i$\n",
    "- **Use Cases**\n",
    "    - test whether a subsample is significantly different from the population\n",
    "    - test if two subsamples from the same population are significantly different\n",
    "    - test if two independent samples are significantly different\n",
    "- **Note: Data should be somewhat \"normally\" distributed (so visualize). Non-normal data needs a different test (next time**"
   ]
  },
  {
   "cell_type": "markdown",
   "metadata": {
    "slideshow": {
     "slide_type": "subslide"
    }
   },
   "source": [
    "## t-Test example: Seattle Weather in 2010\n",
    "- **Hypothesis:** The temperature during the Spring was significantly different than the temperature during the Fall\n",
    "- **Null hypothesis:** The temperature during the Spring wasn't significantly different\n",
    "- **Define terms:**\n",
    "    - Spring: March through May\n",
    "    - Fall: September through November"
   ]
  },
  {
   "cell_type": "code",
   "execution_count": 15,
   "metadata": {
    "collapsed": false,
    "slideshow": {
     "slide_type": "subslide"
    }
   },
   "outputs": [],
   "source": [
    "import os\n",
    "\n",
    "data_dir = \"../downloads/seattle_weather/\"\n",
    "weather_files = [\n",
    "    data_dir + f for f in os.listdir(data_dir) if f.startswith(\"MonthlyHistory\")]\n",
    "seattle_weather = pd.read_csv(weather_files[0])\n",
    "\n",
    "for f in weather_files[1:]:\n",
    "    indata = pd.read_csv(f)\n",
    "    if \"PDT\" in indata.columns:\n",
    "        indata.rename(columns={'PDT': 'PST'}, inplace=True)\n",
    "        \n",
    "    seattle_weather = pd.concat((seattle_weather, indata), ignore_index=True)"
   ]
  },
  {
   "cell_type": "markdown",
   "metadata": {
    "slideshow": {
     "slide_type": "skip"
    }
   },
   "source": [
    "`pandas.concat` takes two DataFrames and merges them into one DataFrame. If you don't set `ignore_index=True` then it will preserve the index values that each individual DataFrame had before merging, which can become problematic when slicing the new merged frame\n",
    "\n",
    "Note that when concatenating DataFrames, any columns that exist in one and not in the other will get filled with null values. Above, I just change the name of the \"PDT\" column because not every data file has that column despite them all showing roughly the same data."
   ]
  },
  {
   "cell_type": "code",
   "execution_count": 16,
   "metadata": {
    "collapsed": false,
    "scrolled": true,
    "slideshow": {
     "slide_type": "-"
    }
   },
   "outputs": [],
   "source": [
    "seattle_weather[\"year\"] = seattle_weather.PST.map(lambda x: float(x.split(\"-\")[0]))\n",
    "seattle_weather[\"month\"] = seattle_weather.PST.map(lambda x: float(x.split(\"-\")[1]))\n",
    "seattle_weather[\"day\"] = seattle_weather.PST.map(lambda x: float(x.split(\"-\")[2]))"
   ]
  },
  {
   "cell_type": "markdown",
   "metadata": {
    "slideshow": {
     "slide_type": "skip"
    }
   },
   "source": [
    "You can create new columns in a DataFrame much like how you can create new keys in a dictionary, by specifying the column name that you want. You can also get data from columns in two ways: calling that column up with the square bracket notation `DataFrame[\"column_name\"]` or with dot notation `DataFrame.column_name`. The main difference is that dot notation cannot handle column names with spaces."
   ]
  },
  {
   "cell_type": "code",
   "execution_count": 17,
   "metadata": {
    "collapsed": true,
    "slideshow": {
     "slide_type": "-"
    }
   },
   "outputs": [],
   "source": [
    "spring_2010 = (seattle_weather.year == 2010) & (seattle_weather.month > 2) & (seattle_weather.month < 6)\n",
    "fall_2010 = (seattle_weather.year == 2010) & (seattle_weather.month > 8) & (seattle_weather.month < 12)"
   ]
  },
  {
   "cell_type": "markdown",
   "metadata": {
    "slideshow": {
     "slide_type": "skip"
    }
   },
   "source": [
    "You can select indices of data matching specific criteria. The above lines produce two pandas Series objects (effectively a one-column DataFrame) holding boolean values of `True` when a row matches your criteria, and `False` when it doesn't. You can do the same with numpy arrays (where the same selection will produce numpy arrays filled with booleans)"
   ]
  },
  {
   "cell_type": "code",
   "execution_count": 18,
   "metadata": {
    "collapsed": false,
    "slideshow": {
     "slide_type": "subslide"
    }
   },
   "outputs": [
    {
     "data": {
      "image/png": "[encoded data removed]",
      "text/plain": [
       "<matplotlib.figure.Figure at 0x11b6493c8>"
      ]
     },
     "metadata": {},
     "output_type": "display_data"
    }
   ],
   "source": [
    "plt.figure(figsize=(10, 4))\n",
    "opacity = 0.5\n",
    "mean_temp = \"Mean TemperatureF\"\n",
    "plt.hist(seattle_weather[spring_2010][mean_temp], bins=np.arange(20, 76, 4), alpha=opacity, label=\"Spring 2010\")\n",
    "plt.hist(seattle_weather[fall_2010][mean_temp], bins=np.arange(20, 76, 4), alpha=opacity, label=\"Fall 2010\")\n",
    "plt.legend()\n",
    "plt.xlabel(\"Mean Temperature (F)\")\n",
    "plt.ylabel(\"N days\")\n",
    "plt.show()"
   ]
  },
  {
   "cell_type": "markdown",
   "metadata": {
    "slideshow": {
     "slide_type": "skip"
    }
   },
   "source": [
    "The `alpha` parameter controls the opacity of whatever you're plotting, whether they are bars, points, lines, circles, whatever. Opacity goes from 0 to 1. Works best when you you have heavily overlapping data. In the event of overlapping data, plot the larger data set first (in the background) so that it doesn't drown out the smaller set."
   ]
  },
  {
   "cell_type": "code",
   "execution_count": 19,
   "metadata": {
    "collapsed": false,
    "slideshow": {
     "slide_type": "subslide"
    }
   },
   "outputs": [
    {
     "name": "stdout",
     "output_type": "stream",
     "text": [
      "Results:\n",
      "\tt-statistic: -2.09063\n",
      "\tp-value: 0.03796\n"
     ]
    }
   ],
   "source": [
    "from scipy.stats import ttest_ind\n",
    "\n",
    "t_stat, p_value = ttest_ind(seattle_weather[spring_2010][mean_temp],\n",
    "                            seattle_weather[fall_2010][mean_temp])\n",
    "print(\"Results:\\n\\tt-statistic: %.5f\\n\\tp-value: %.5f\" % (t_stat, p_value))"
   ]
  },
  {
   "cell_type": "markdown",
   "metadata": {},
   "source": [
    "I can reject the null hypothesis at the p < 0.05 significance level. **At that level, the mean temperature in Spring and Fall 2010 was significantly different.**"
   ]
  },
  {
   "cell_type": "markdown",
   "metadata": {
    "slideshow": {
     "slide_type": "subslide"
    }
   },
   "source": [
    "### t-tests in SciPy.stats\n",
    "\n",
    "- **[ttest_ind](http://docs.scipy.org/doc/scipy-0.16.0/reference/generated/scipy.stats.ttest_ind.html#scipy.stats.ttest_ind):** performs a t-test on two sample distributions and returns the t-statistic (useful later) and the p-value; useful for two independent samples from the same population (or very similar but different populations)\n",
    "- **[ttest_1samp](http://docs.scipy.org/doc/scipy-0.16.0/reference/generated/scipy.stats.ttest_1samp.html#scipy.stats.ttest_1samp):** useful for one sample distribution in comparison to the mean of a population\n",
    "- **[ttest_rel](http://docs.scipy.org/doc/scipy-0.16.0/reference/generated/scipy.stats.ttest_rel.html#scipy.stats.ttest_rel):** useful for two related samples"
   ]
  }
 ],
 "metadata": {
  "celltoolbar": "Slideshow",
  "kernelspec": {
   "display_name": "Python 3",
   "language": "python",
   "name": "python3"
  },
  "language_info": {
   "codemirror_mode": {
    "name": "ipython",
    "version": 3
   },
   "file_extension": ".py",
   "mimetype": "text/x-python",
   "name": "python",
   "nbconvert_exporter": "python",
   "pygments_lexer": "ipython3",
   "version": "3.5.1"
  }
 },
 "nbformat": 4,
 "nbformat_minor": 0
}
